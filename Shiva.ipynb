{
 "cells": [
  {
   "cell_type": "code",
   "execution_count": null,
   "id": "4a279a8f",
   "metadata": {},
   "outputs": [],
   "source": [
    "# This notebook, like the mythical Shiva, is both destroyer and creator. It will delete the old Pinecone index and create a new one, ensuring that the data is fresh and ready for use."
   ]
  },
  {
   "cell_type": "code",
   "execution_count": 5,
   "id": "a862bb70",
   "metadata": {},
   "outputs": [
    {
     "name": "stdout",
     "output_type": "stream",
     "text": [
      "Index deleted successfully.\n"
     ]
    }
   ],
   "source": [
    "# ---------------------- NUKES ---------------------- #\n",
    "# USE THIS CELL TO DELETE A PINECONE INDEX\n",
    "import os\n",
    "from dotenv import load_dotenv, find_dotenv\n",
    "\n",
    "from pinecone import Pinecone\n",
    "\n",
    "# Load environment variables from .env file\n",
    "_ = load_dotenv(find_dotenv())\n",
    "PINECONE_API_KEY = os.getenv(\"PINECONE_API_KEY\")\n",
    "\n",
    "# Initialize Pinecone client\n",
    "pc = Pinecone(api_key = PINECONE_API_KEY)\n",
    "\n",
    "pc.delete_index(\"rizzbot-summaries-full-text\") # Enter index name here\n",
    "print(\"Index deleted successfully.\")"
   ]
  },
  {
   "cell_type": "code",
   "execution_count": 1,
   "id": "4f27b169",
   "metadata": {},
   "outputs": [
    {
     "data": {
      "text/plain": [
       "{\n",
       "    \"name\": \"rizzbot-summaries-full-text\",\n",
       "    \"metric\": \"cosine\",\n",
       "    \"host\": \"rizzbot-summaries-full-text-ihax17q.svc.aped-4627-b74a.pinecone.io\",\n",
       "    \"spec\": {\n",
       "        \"serverless\": {\n",
       "            \"cloud\": \"aws\",\n",
       "            \"region\": \"us-east-1\"\n",
       "        }\n",
       "    },\n",
       "    \"status\": {\n",
       "        \"ready\": true,\n",
       "        \"state\": \"Ready\"\n",
       "    },\n",
       "    \"vector_type\": \"dense\",\n",
       "    \"dimension\": 1536,\n",
       "    \"deletion_protection\": \"disabled\",\n",
       "    \"tags\": null\n",
       "}"
      ]
     },
     "execution_count": 1,
     "metadata": {},
     "output_type": "execute_result"
    }
   ],
   "source": [
    "# ---------------------- CREATION ---------------------- #\n",
    "import os\n",
    "from dotenv import load_dotenv, find_dotenv\n",
    "\n",
    "from pinecone import Pinecone, ServerlessSpec\n",
    "\n",
    "spec = ServerlessSpec(cloud=\"aws\", region=\"us-east-1\")  # Use your actual cloud/region\n",
    "\n",
    "# Load environment variables from .env file\n",
    "_ = load_dotenv(find_dotenv())\n",
    "PINECONE_API_KEY = os.getenv(\"PINECONE_API_KEY\")\n",
    "\n",
    "# Initialize Pinecone client\n",
    "pc = Pinecone(api_key = PINECONE_API_KEY)\n",
    "\n",
    "pc.create_index(\"rizzbot-summaries-full-text\", dimension=1536, metric=\"cosine\", spec=spec)\n"
   ]
  },
  {
   "cell_type": "code",
   "execution_count": null,
   "id": "1d866b29",
   "metadata": {},
   "outputs": [],
   "source": [
    "# Fill the new pinecone index with embeddings from the summaries already generated  #\n",
    "\n",
    "\n",
    "\n",
    "\n",
    "\n"
   ]
  }
 ],
 "metadata": {
  "kernelspec": {
   "display_name": "Python 3",
   "language": "python",
   "name": "python3"
  },
  "language_info": {
   "codemirror_mode": {
    "name": "ipython",
    "version": 3
   },
   "file_extension": ".py",
   "mimetype": "text/x-python",
   "name": "python",
   "nbconvert_exporter": "python",
   "pygments_lexer": "ipython3",
   "version": "3.11.9"
  }
 },
 "nbformat": 4,
 "nbformat_minor": 5
}
