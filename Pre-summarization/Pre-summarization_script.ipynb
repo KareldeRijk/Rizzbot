{
 "cells": [
  {
   "cell_type": "markdown",
   "id": "4faed615",
   "metadata": {},
   "source": [
    "# This notebook is to generate summaries for the most common topics (extracted via the clustering script). These summaries can then be pre-loaded by the final model if needed, rather than having to generate them from scratch. Which ultimately saves time and efficiency.  "
   ]
  },
  {
   "cell_type": "code",
   "execution_count": 1,
   "id": "6e02ec27",
   "metadata": {},
   "outputs": [
    {
     "name": "stdout",
     "output_type": "stream",
     "text": [
      "WARNING:tensorflow:From C:\\Users\\karel\\AppData\\Local\\Packages\\PythonSoftwareFoundation.Python.3.11_qbz5n2kfra8p0\\LocalCache\\local-packages\\Python311\\site-packages\\tf_keras\\src\\losses.py:2976: The name tf.losses.sparse_softmax_cross_entropy is deprecated. Please use tf.compat.v1.losses.sparse_softmax_cross_entropy instead.\n",
      "\n"
     ]
    },
    {
     "name": "stderr",
     "output_type": "stream",
     "text": [
      "2025-06-30 18:16:09,513 - INFO - Loaded configuration from config.yaml\n",
      "2025-06-30 18:16:09,515 - INFO - All required API keys found in configuration\n",
      "2025-06-30 18:16:09,516 - INFO - Initializing clients...\n",
      "2025-06-30 18:16:09,548 - INFO - Found credentials in shared credentials file: ~/.aws/credentials\n",
      "2025-06-30 18:16:10,424 - INFO - S3 client initialized\n",
      "2025-06-30 18:16:11,270 - INFO - OpenAI client initialized\n",
      "2025-06-30 18:16:14,802 - INFO - HTTP Request: POST https://api.openai.com/v1/chat/completions \"HTTP/1.1 200 OK\"\n",
      "2025-06-30 18:16:14,809 - INFO - OpenAI API connection test successful\n",
      "2025-06-30 18:16:17,807 - INFO - Pinecone client initialized\n",
      "2025-06-30 18:16:17,851 - INFO - Use pytorch device_name: cuda:0\n",
      "2025-06-30 18:16:17,853 - INFO - Load pretrained SentenceTransformer: all-MiniLM-L6-v2\n",
      "2025-06-30 18:16:31,399 - INFO - Sentence transformer initialized\n",
      "2025-06-30 18:16:31,400 - INFO - All clients initialized successfully\n",
      "2025-06-30 18:16:31,401 - INFO - Loading clustered vectors...\n",
      "2025-06-30 18:16:31,435 - INFO - Loaded clustered vectors: 522 items\n",
      "2025-06-30 18:16:31,436 - INFO - DataFrame shape: (522, 9), columns: ['id', 'text', 'embedding', 'cluster', 'x', 'y', 'topic_num', 'topic_id', 'topic_score']\n",
      "2025-06-30 18:16:31,437 - INFO - Loading BERTopic model from: rizzbot_data/bertopic_model\n",
      "2025-06-30 18:16:31,440 - INFO - Use pytorch device_name: cuda:0\n",
      "2025-06-30 18:16:31,441 - INFO - Load pretrained SentenceTransformer: all-MiniLM-L6-v2\n",
      "2025-06-30 18:16:32,907 - INFO - Loaded BERTopic model with 54 topics\n",
      "2025-06-30 18:16:32,907 - INFO - Grouping documents by topic...\n",
      "2025-06-30 18:16:32,912 - INFO - Grouped documents into 45 topics\n",
      "2025-06-30 18:16:32,912 - INFO - Running summarization for 45 topics...\n",
      "Summarizing topics:   0%|          | 0/45 [00:00<?, ?it/s]2025-06-30 18:16:32,915 - INFO - Generating summary for topic 0 with 142 documents\n",
      "2025-06-30 18:16:32,916 - INFO - Combined text length: 166992 characters\n",
      "2025-06-30 18:16:44,131 - INFO - HTTP Request: POST https://api.openai.com/v1/chat/completions \"HTTP/1.1 200 OK\"\n",
      "2025-06-30 18:16:44,136 - INFO - Successfully generated summary for topic 0: 3245 characters\n",
      "2025-06-30 18:16:44,668 - INFO - Saved topic 0 to S3: rizzbot/Summaries/run_1/topic_0.json\n"
     ]
    },
    {
     "data": {
      "application/vnd.jupyter.widget-view+json": {
       "model_id": "ec85950997a948e6b1c9c9f500c992e3",
       "version_major": 2,
       "version_minor": 0
      },
      "text/plain": [
       "Batches:   0%|          | 0/1 [00:00<?, ?it/s]"
      ]
     },
     "metadata": {},
     "output_type": "display_data"
    },
    {
     "data": {
      "application/vnd.jupyter.widget-view+json": {
       "model_id": "ca678ab7b94d4cb1b191c9b50495c1dd",
       "version_major": 2,
       "version_minor": 0
      },
      "text/plain": [
       "Batches:   0%|          | 0/1 [00:00<?, ?it/s]"
      ]
     },
     "metadata": {},
     "output_type": "display_data"
    },
    {
     "data": {
      "application/vnd.jupyter.widget-view+json": {
       "model_id": "4197616df29747cd8b0353d08d177101",
       "version_major": 2,
       "version_minor": 0
      },
      "text/plain": [
       "Batches:   0%|          | 0/1 [00:00<?, ?it/s]"
      ]
     },
     "metadata": {},
     "output_type": "display_data"
    },
    {
     "data": {
      "application/vnd.jupyter.widget-view+json": {
       "model_id": "5b38652cac0a4fe4b13bbfab600270f7",
       "version_major": 2,
       "version_minor": 0
      },
      "text/plain": [
       "Batches:   0%|          | 0/1 [00:00<?, ?it/s]"
      ]
     },
     "metadata": {},
     "output_type": "display_data"
    },
    {
     "data": {
      "application/vnd.jupyter.widget-view+json": {
       "model_id": "b57ff0823ec74b7296216ccc950d8745",
       "version_major": 2,
       "version_minor": 0
      },
      "text/plain": [
       "Batches:   0%|          | 0/1 [00:00<?, ?it/s]"
      ]
     },
     "metadata": {},
     "output_type": "display_data"
    },
    {
     "data": {
      "application/vnd.jupyter.widget-view+json": {
       "model_id": "ba0b3eb5b17e40b3925014bbadb8eec9",
       "version_major": 2,
       "version_minor": 0
      },
      "text/plain": [
       "Batches:   0%|          | 0/1 [00:00<?, ?it/s]"
      ]
     },
     "metadata": {},
     "output_type": "display_data"
    },
    {
     "data": {
      "application/vnd.jupyter.widget-view+json": {
       "model_id": "bbe97ffc26184d0d90e3f72155e27ff0",
       "version_major": 2,
       "version_minor": 0
      },
      "text/plain": [
       "Batches:   0%|          | 0/1 [00:00<?, ?it/s]"
      ]
     },
     "metadata": {},
     "output_type": "display_data"
    },
    {
     "name": "stderr",
     "output_type": "stream",
     "text": [
      "2025-06-30 18:16:46,983 - INFO - Saved 7 chunks for topic 0 to Pinecone\n",
      "Summarizing topics:   2%|▏         | 1/45 [00:14<10:19, 14.07s/it]2025-06-30 18:16:46,986 - INFO - Generating summary for topic 3 with 45 documents\n",
      "2025-06-30 18:16:46,987 - INFO - Combined text length: 161456 characters\n",
      "2025-06-30 18:16:58,349 - INFO - HTTP Request: POST https://api.openai.com/v1/chat/completions \"HTTP/1.1 200 OK\"\n",
      "2025-06-30 18:16:58,359 - INFO - Successfully generated summary for topic 3: 2507 characters\n",
      "2025-06-30 18:16:58,920 - INFO - Saved topic 3 to S3: rizzbot/Summaries/run_1/topic_3.json\n"
     ]
    },
    {
     "data": {
      "application/vnd.jupyter.widget-view+json": {
       "model_id": "f2680d4ba1814ddfb7cde4c071a6bb90",
       "version_major": 2,
       "version_minor": 0
      },
      "text/plain": [
       "Batches:   0%|          | 0/1 [00:00<?, ?it/s]"
      ]
     },
     "metadata": {},
     "output_type": "display_data"
    },
    {
     "data": {
      "application/vnd.jupyter.widget-view+json": {
       "model_id": "b830ff85c81e4af59b39c03fdbb75867",
       "version_major": 2,
       "version_minor": 0
      },
      "text/plain": [
       "Batches:   0%|          | 0/1 [00:00<?, ?it/s]"
      ]
     },
     "metadata": {},
     "output_type": "display_data"
    },
    {
     "data": {
      "application/vnd.jupyter.widget-view+json": {
       "model_id": "ecd543fec2324a8490b2fc47464e9120",
       "version_major": 2,
       "version_minor": 0
      },
      "text/plain": [
       "Batches:   0%|          | 0/1 [00:00<?, ?it/s]"
      ]
     },
     "metadata": {},
     "output_type": "display_data"
    },
    {
     "data": {
      "application/vnd.jupyter.widget-view+json": {
       "model_id": "a982a8492733412091d429e2fe368a51",
       "version_major": 2,
       "version_minor": 0
      },
      "text/plain": [
       "Batches:   0%|          | 0/1 [00:00<?, ?it/s]"
      ]
     },
     "metadata": {},
     "output_type": "display_data"
    },
    {
     "data": {
      "application/vnd.jupyter.widget-view+json": {
       "model_id": "c2c65f84efeb462d9deb0d78cddcb85c",
       "version_major": 2,
       "version_minor": 0
      },
      "text/plain": [
       "Batches:   0%|          | 0/1 [00:00<?, ?it/s]"
      ]
     },
     "metadata": {},
     "output_type": "display_data"
    },
    {
     "data": {
      "application/vnd.jupyter.widget-view+json": {
       "model_id": "88822bdaea0141f98d295c42af42d284",
       "version_major": 2,
       "version_minor": 0
      },
      "text/plain": [
       "Batches:   0%|          | 0/1 [00:00<?, ?it/s]"
      ]
     },
     "metadata": {},
     "output_type": "display_data"
    },
    {
     "name": "stderr",
     "output_type": "stream",
     "text": [
      "2025-06-30 18:16:59,241 - INFO - Saved 6 chunks for topic 3 to Pinecone\n",
      "Summarizing topics:   4%|▍         | 2/45 [00:26<09:19, 13.00s/it]2025-06-30 18:16:59,243 - INFO - Generating summary for topic 4 with 22 documents\n",
      "2025-06-30 18:16:59,244 - INFO - Combined text length: 80309 characters\n",
      "2025-06-30 18:17:12,197 - INFO - HTTP Request: POST https://api.openai.com/v1/chat/completions \"HTTP/1.1 200 OK\"\n",
      "2025-06-30 18:17:12,202 - INFO - Successfully generated summary for topic 4: 3286 characters\n",
      "2025-06-30 18:17:12,763 - INFO - Saved topic 4 to S3: rizzbot/Summaries/run_1/topic_4.json\n"
     ]
    },
    {
     "data": {
      "application/vnd.jupyter.widget-view+json": {
       "model_id": "1e2f6d8dce3b42db80fb61641195adfb",
       "version_major": 2,
       "version_minor": 0
      },
      "text/plain": [
       "Batches:   0%|          | 0/1 [00:00<?, ?it/s]"
      ]
     },
     "metadata": {},
     "output_type": "display_data"
    },
    {
     "data": {
      "application/vnd.jupyter.widget-view+json": {
       "model_id": "697b279355254e71a66a2e05a39c9419",
       "version_major": 2,
       "version_minor": 0
      },
      "text/plain": [
       "Batches:   0%|          | 0/1 [00:00<?, ?it/s]"
      ]
     },
     "metadata": {},
     "output_type": "display_data"
    },
    {
     "data": {
      "application/vnd.jupyter.widget-view+json": {
       "model_id": "c4fe386f2a6f4c6ba454562b5f983e93",
       "version_major": 2,
       "version_minor": 0
      },
      "text/plain": [
       "Batches:   0%|          | 0/1 [00:00<?, ?it/s]"
      ]
     },
     "metadata": {},
     "output_type": "display_data"
    },
    {
     "data": {
      "application/vnd.jupyter.widget-view+json": {
       "model_id": "b4c97518e2564b9d95e549a071891cdd",
       "version_major": 2,
       "version_minor": 0
      },
      "text/plain": [
       "Batches:   0%|          | 0/1 [00:00<?, ?it/s]"
      ]
     },
     "metadata": {},
     "output_type": "display_data"
    },
    {
     "data": {
      "application/vnd.jupyter.widget-view+json": {
       "model_id": "e9dcc39b550b4319990a454bb64d492e",
       "version_major": 2,
       "version_minor": 0
      },
      "text/plain": [
       "Batches:   0%|          | 0/1 [00:00<?, ?it/s]"
      ]
     },
     "metadata": {},
     "output_type": "display_data"
    },
    {
     "data": {
      "application/vnd.jupyter.widget-view+json": {
       "model_id": "3229e86392fe46649026974aeb8930a3",
       "version_major": 2,
       "version_minor": 0
      },
      "text/plain": [
       "Batches:   0%|          | 0/1 [00:00<?, ?it/s]"
      ]
     },
     "metadata": {},
     "output_type": "display_data"
    },
    {
     "data": {
      "application/vnd.jupyter.widget-view+json": {
       "model_id": "1ebacda9082c496a90fb2357b067e510",
       "version_major": 2,
       "version_minor": 0
      },
      "text/plain": [
       "Batches:   0%|          | 0/1 [00:00<?, ?it/s]"
      ]
     },
     "metadata": {},
     "output_type": "display_data"
    },
    {
     "name": "stderr",
     "output_type": "stream",
     "text": [
      "2025-06-30 18:17:13,138 - INFO - Saved 7 chunks for topic 4 to Pinecone\n",
      "Summarizing topics:   7%|▋         | 3/45 [00:40<09:23, 13.41s/it]2025-06-30 18:17:13,141 - INFO - Generating summary for topic 5 with 18 documents\n",
      "2025-06-30 18:17:13,142 - INFO - Combined text length: 67388 characters\n",
      "2025-06-30 18:17:21,522 - INFO - HTTP Request: POST https://api.openai.com/v1/chat/completions \"HTTP/1.1 200 OK\"\n",
      "2025-06-30 18:17:21,532 - INFO - Successfully generated summary for topic 5: 2695 characters\n",
      "2025-06-30 18:17:22,177 - INFO - Saved topic 5 to S3: rizzbot/Summaries/run_1/topic_5.json\n"
     ]
    },
    {
     "data": {
      "application/vnd.jupyter.widget-view+json": {
       "model_id": "5fe2f5abd04b4d6587af75fe164c936e",
       "version_major": 2,
       "version_minor": 0
      },
      "text/plain": [
       "Batches:   0%|          | 0/1 [00:00<?, ?it/s]"
      ]
     },
     "metadata": {},
     "output_type": "display_data"
    },
    {
     "data": {
      "application/vnd.jupyter.widget-view+json": {
       "model_id": "37339b8175594ec4862787ec5015cc4c",
       "version_major": 2,
       "version_minor": 0
      },
      "text/plain": [
       "Batches:   0%|          | 0/1 [00:00<?, ?it/s]"
      ]
     },
     "metadata": {},
     "output_type": "display_data"
    },
    {
     "data": {
      "application/vnd.jupyter.widget-view+json": {
       "model_id": "fca0413ccc1f452caa7a4a1eb3e2492c",
       "version_major": 2,
       "version_minor": 0
      },
      "text/plain": [
       "Batches:   0%|          | 0/1 [00:00<?, ?it/s]"
      ]
     },
     "metadata": {},
     "output_type": "display_data"
    },
    {
     "data": {
      "application/vnd.jupyter.widget-view+json": {
       "model_id": "dd5f8e80294549fab9191746ff5fdec2",
       "version_major": 2,
       "version_minor": 0
      },
      "text/plain": [
       "Batches:   0%|          | 0/1 [00:00<?, ?it/s]"
      ]
     },
     "metadata": {},
     "output_type": "display_data"
    },
    {
     "data": {
      "application/vnd.jupyter.widget-view+json": {
       "model_id": "3b7acf65ab624361a42cb55913eb1e4e",
       "version_major": 2,
       "version_minor": 0
      },
      "text/plain": [
       "Batches:   0%|          | 0/1 [00:00<?, ?it/s]"
      ]
     },
     "metadata": {},
     "output_type": "display_data"
    },
    {
     "data": {
      "application/vnd.jupyter.widget-view+json": {
       "model_id": "3d50cd92bacc4e4bba6362de4f519ffb",
       "version_major": 2,
       "version_minor": 0
      },
      "text/plain": [
       "Batches:   0%|          | 0/1 [00:00<?, ?it/s]"
      ]
     },
     "metadata": {},
     "output_type": "display_data"
    },
    {
     "name": "stderr",
     "output_type": "stream",
     "text": [
      "2025-06-30 18:17:22,467 - INFO - Saved 6 chunks for topic 5 to Pinecone\n",
      "Summarizing topics:   9%|▉         | 4/45 [00:49<08:03, 11.80s/it]2025-06-30 18:17:22,469 - INFO - Generating summary for topic 6 with 18 documents\n",
      "2025-06-30 18:17:22,471 - INFO - Combined text length: 64600 characters\n",
      "2025-06-30 18:17:33,423 - INFO - HTTP Request: POST https://api.openai.com/v1/chat/completions \"HTTP/1.1 200 OK\"\n",
      "2025-06-30 18:17:33,426 - INFO - Successfully generated summary for topic 6: 3447 characters\n",
      "2025-06-30 18:17:33,968 - INFO - Saved topic 6 to S3: rizzbot/Summaries/run_1/topic_6.json\n"
     ]
    },
    {
     "data": {
      "application/vnd.jupyter.widget-view+json": {
       "model_id": "5d558f5c616c4c3db45bbe380a908de4",
       "version_major": 2,
       "version_minor": 0
      },
      "text/plain": [
       "Batches:   0%|          | 0/1 [00:00<?, ?it/s]"
      ]
     },
     "metadata": {},
     "output_type": "display_data"
    },
    {
     "data": {
      "application/vnd.jupyter.widget-view+json": {
       "model_id": "cfc645781c644a1abc1980ab2ed88b3b",
       "version_major": 2,
       "version_minor": 0
      },
      "text/plain": [
       "Batches:   0%|          | 0/1 [00:00<?, ?it/s]"
      ]
     },
     "metadata": {},
     "output_type": "display_data"
    },
    {
     "data": {
      "application/vnd.jupyter.widget-view+json": {
       "model_id": "d252ba5e683c4321b60c85884fb2380e",
       "version_major": 2,
       "version_minor": 0
      },
      "text/plain": [
       "Batches:   0%|          | 0/1 [00:00<?, ?it/s]"
      ]
     },
     "metadata": {},
     "output_type": "display_data"
    },
    {
     "data": {
      "application/vnd.jupyter.widget-view+json": {
       "model_id": "8caf1bc2798f44aa8f9200d4bb0f0f0c",
       "version_major": 2,
       "version_minor": 0
      },
      "text/plain": [
       "Batches:   0%|          | 0/1 [00:00<?, ?it/s]"
      ]
     },
     "metadata": {},
     "output_type": "display_data"
    },
    {
     "data": {
      "application/vnd.jupyter.widget-view+json": {
       "model_id": "45e5ff3719c240a59239057ffb166f40",
       "version_major": 2,
       "version_minor": 0
      },
      "text/plain": [
       "Batches:   0%|          | 0/1 [00:00<?, ?it/s]"
      ]
     },
     "metadata": {},
     "output_type": "display_data"
    },
    {
     "data": {
      "application/vnd.jupyter.widget-view+json": {
       "model_id": "bc1ab993d1414665a1a9ddeefccec17c",
       "version_major": 2,
       "version_minor": 0
      },
      "text/plain": [
       "Batches:   0%|          | 0/1 [00:00<?, ?it/s]"
      ]
     },
     "metadata": {},
     "output_type": "display_data"
    },
    {
     "data": {
      "application/vnd.jupyter.widget-view+json": {
       "model_id": "d4033eb98dff4422a06d630b4854df87",
       "version_major": 2,
       "version_minor": 0
      },
      "text/plain": [
       "Batches:   0%|          | 0/1 [00:00<?, ?it/s]"
      ]
     },
     "metadata": {},
     "output_type": "display_data"
    },
    {
     "name": "stderr",
     "output_type": "stream",
     "text": [
      "2025-06-30 18:17:34,293 - INFO - Saved 7 chunks for topic 6 to Pinecone\n",
      "Summarizing topics:  11%|█         | 5/45 [01:01<07:52, 11.81s/it]2025-06-30 18:17:34,296 - INFO - Generating summary for topic 7 with 15 documents\n",
      "2025-06-30 18:17:34,298 - INFO - Combined text length: 55562 characters\n",
      "2025-06-30 18:17:41,689 - INFO - HTTP Request: POST https://api.openai.com/v1/chat/completions \"HTTP/1.1 200 OK\"\n",
      "2025-06-30 18:17:41,694 - INFO - Successfully generated summary for topic 7: 2476 characters\n",
      "2025-06-30 18:17:42,293 - INFO - Saved topic 7 to S3: rizzbot/Summaries/run_1/topic_7.json\n"
     ]
    },
    {
     "data": {
      "application/vnd.jupyter.widget-view+json": {
       "model_id": "5fa021f8d52241b7ba802b3218392373",
       "version_major": 2,
       "version_minor": 0
      },
      "text/plain": [
       "Batches:   0%|          | 0/1 [00:00<?, ?it/s]"
      ]
     },
     "metadata": {},
     "output_type": "display_data"
    },
    {
     "data": {
      "application/vnd.jupyter.widget-view+json": {
       "model_id": "f31224b6ee2a4554af7a21f9907e68cf",
       "version_major": 2,
       "version_minor": 0
      },
      "text/plain": [
       "Batches:   0%|          | 0/1 [00:00<?, ?it/s]"
      ]
     },
     "metadata": {},
     "output_type": "display_data"
    },
    {
     "data": {
      "application/vnd.jupyter.widget-view+json": {
       "model_id": "89d7fac1776e4d13967b7889c8f1ccd6",
       "version_major": 2,
       "version_minor": 0
      },
      "text/plain": [
       "Batches:   0%|          | 0/1 [00:00<?, ?it/s]"
      ]
     },
     "metadata": {},
     "output_type": "display_data"
    },
    {
     "data": {
      "application/vnd.jupyter.widget-view+json": {
       "model_id": "73bd099b83674fb6a764a9bc7e66154f",
       "version_major": 2,
       "version_minor": 0
      },
      "text/plain": [
       "Batches:   0%|          | 0/1 [00:00<?, ?it/s]"
      ]
     },
     "metadata": {},
     "output_type": "display_data"
    },
    {
     "data": {
      "application/vnd.jupyter.widget-view+json": {
       "model_id": "bed4d1eded25494ba9977e655396f4d1",
       "version_major": 2,
       "version_minor": 0
      },
      "text/plain": [
       "Batches:   0%|          | 0/1 [00:00<?, ?it/s]"
      ]
     },
     "metadata": {},
     "output_type": "display_data"
    },
    {
     "name": "stderr",
     "output_type": "stream",
     "text": [
      "2025-06-30 18:17:42,576 - INFO - Saved 5 chunks for topic 7 to Pinecone\n",
      "Summarizing topics:  13%|█▎        | 6/45 [01:09<06:53, 10.61s/it]2025-06-30 18:17:42,578 - INFO - Generating summary for topic 8 with 14 documents\n",
      "2025-06-30 18:17:42,579 - INFO - Combined text length: 24371 characters\n",
      "2025-06-30 18:17:54,939 - INFO - HTTP Request: POST https://api.openai.com/v1/chat/completions \"HTTP/1.1 200 OK\"\n",
      "2025-06-30 18:17:54,943 - INFO - Successfully generated summary for topic 8: 2887 characters\n",
      "2025-06-30 18:17:55,592 - INFO - Saved topic 8 to S3: rizzbot/Summaries/run_1/topic_8.json\n"
     ]
    },
    {
     "data": {
      "application/vnd.jupyter.widget-view+json": {
       "model_id": "544656a0d282496c921c3db682c6ee45",
       "version_major": 2,
       "version_minor": 0
      },
      "text/plain": [
       "Batches:   0%|          | 0/1 [00:00<?, ?it/s]"
      ]
     },
     "metadata": {},
     "output_type": "display_data"
    },
    {
     "data": {
      "application/vnd.jupyter.widget-view+json": {
       "model_id": "e6b1847e540849e69a6648a397a54663",
       "version_major": 2,
       "version_minor": 0
      },
      "text/plain": [
       "Batches:   0%|          | 0/1 [00:00<?, ?it/s]"
      ]
     },
     "metadata": {},
     "output_type": "display_data"
    },
    {
     "data": {
      "application/vnd.jupyter.widget-view+json": {
       "model_id": "038546499130434c921e3eca6c0d294c",
       "version_major": 2,
       "version_minor": 0
      },
      "text/plain": [
       "Batches:   0%|          | 0/1 [00:00<?, ?it/s]"
      ]
     },
     "metadata": {},
     "output_type": "display_data"
    },
    {
     "data": {
      "application/vnd.jupyter.widget-view+json": {
       "model_id": "4f67c6ceb87743459b1437398de2cf74",
       "version_major": 2,
       "version_minor": 0
      },
      "text/plain": [
       "Batches:   0%|          | 0/1 [00:00<?, ?it/s]"
      ]
     },
     "metadata": {},
     "output_type": "display_data"
    },
    {
     "data": {
      "application/vnd.jupyter.widget-view+json": {
       "model_id": "dedab377e18942bf8419d5e4e44ee846",
       "version_major": 2,
       "version_minor": 0
      },
      "text/plain": [
       "Batches:   0%|          | 0/1 [00:00<?, ?it/s]"
      ]
     },
     "metadata": {},
     "output_type": "display_data"
    },
    {
     "data": {
      "application/vnd.jupyter.widget-view+json": {
       "model_id": "2d5064f3f2404bc1b97f35f157537ffe",
       "version_major": 2,
       "version_minor": 0
      },
      "text/plain": [
       "Batches:   0%|          | 0/1 [00:00<?, ?it/s]"
      ]
     },
     "metadata": {},
     "output_type": "display_data"
    },
    {
     "name": "stderr",
     "output_type": "stream",
     "text": [
      "2025-06-30 18:17:55,963 - INFO - Saved 6 chunks for topic 8 to Pinecone\n",
      "Summarizing topics:  16%|█▌        | 7/45 [01:23<07:17, 11.52s/it]2025-06-30 18:17:55,965 - INFO - Generating summary for topic 10 with 13 documents\n",
      "2025-06-30 18:17:55,967 - INFO - Combined text length: 44147 characters\n",
      "2025-06-30 18:18:06,783 - INFO - HTTP Request: POST https://api.openai.com/v1/chat/completions \"HTTP/1.1 200 OK\"\n",
      "2025-06-30 18:18:06,797 - INFO - Successfully generated summary for topic 10: 3085 characters\n",
      "2025-06-30 18:18:07,316 - INFO - Saved topic 10 to S3: rizzbot/Summaries/run_1/topic_10.json\n"
     ]
    },
    {
     "data": {
      "application/vnd.jupyter.widget-view+json": {
       "model_id": "6c913e59065046269893942de8e4b644",
       "version_major": 2,
       "version_minor": 0
      },
      "text/plain": [
       "Batches:   0%|          | 0/1 [00:00<?, ?it/s]"
      ]
     },
     "metadata": {},
     "output_type": "display_data"
    },
    {
     "data": {
      "application/vnd.jupyter.widget-view+json": {
       "model_id": "d153531dca7549a88f7fee4e0d749916",
       "version_major": 2,
       "version_minor": 0
      },
      "text/plain": [
       "Batches:   0%|          | 0/1 [00:00<?, ?it/s]"
      ]
     },
     "metadata": {},
     "output_type": "display_data"
    },
    {
     "data": {
      "application/vnd.jupyter.widget-view+json": {
       "model_id": "5e647235d1524683965c9eaa0d6ae94a",
       "version_major": 2,
       "version_minor": 0
      },
      "text/plain": [
       "Batches:   0%|          | 0/1 [00:00<?, ?it/s]"
      ]
     },
     "metadata": {},
     "output_type": "display_data"
    },
    {
     "data": {
      "application/vnd.jupyter.widget-view+json": {
       "model_id": "34616857b27f481984a49b5842287700",
       "version_major": 2,
       "version_minor": 0
      },
      "text/plain": [
       "Batches:   0%|          | 0/1 [00:00<?, ?it/s]"
      ]
     },
     "metadata": {},
     "output_type": "display_data"
    },
    {
     "data": {
      "application/vnd.jupyter.widget-view+json": {
       "model_id": "cf02948506dd4422b2c67650d2ed7a22",
       "version_major": 2,
       "version_minor": 0
      },
      "text/plain": [
       "Batches:   0%|          | 0/1 [00:00<?, ?it/s]"
      ]
     },
     "metadata": {},
     "output_type": "display_data"
    },
    {
     "data": {
      "application/vnd.jupyter.widget-view+json": {
       "model_id": "811e2545ec984e3d9bfa4b9e160713c2",
       "version_major": 2,
       "version_minor": 0
      },
      "text/plain": [
       "Batches:   0%|          | 0/1 [00:00<?, ?it/s]"
      ]
     },
     "metadata": {},
     "output_type": "display_data"
    },
    {
     "data": {
      "application/vnd.jupyter.widget-view+json": {
       "model_id": "194853890a2a4ba584ccedc007e5a1d6",
       "version_major": 2,
       "version_minor": 0
      },
      "text/plain": [
       "Batches:   0%|          | 0/1 [00:00<?, ?it/s]"
      ]
     },
     "metadata": {},
     "output_type": "display_data"
    },
    {
     "name": "stderr",
     "output_type": "stream",
     "text": [
      "2025-06-30 18:18:07,650 - INFO - Saved 7 chunks for topic 10 to Pinecone\n",
      "Summarizing topics:  18%|█▊        | 8/45 [01:34<07:08, 11.57s/it]2025-06-30 18:18:07,652 - INFO - Generating summary for topic 11 with 12 documents\n",
      "2025-06-30 18:18:07,653 - INFO - Combined text length: 22787 characters\n",
      "2025-06-30 18:18:14,181 - INFO - HTTP Request: POST https://api.openai.com/v1/chat/completions \"HTTP/1.1 200 OK\"\n",
      "2025-06-30 18:18:14,184 - INFO - Successfully generated summary for topic 11: 2434 characters\n",
      "2025-06-30 18:18:14,721 - INFO - Saved topic 11 to S3: rizzbot/Summaries/run_1/topic_11.json\n"
     ]
    },
    {
     "data": {
      "application/vnd.jupyter.widget-view+json": {
       "model_id": "7b7a56e4368e4d6da8d8e47792a673d7",
       "version_major": 2,
       "version_minor": 0
      },
      "text/plain": [
       "Batches:   0%|          | 0/1 [00:00<?, ?it/s]"
      ]
     },
     "metadata": {},
     "output_type": "display_data"
    },
    {
     "data": {
      "application/vnd.jupyter.widget-view+json": {
       "model_id": "1690a356162042008ed689bc973b6dac",
       "version_major": 2,
       "version_minor": 0
      },
      "text/plain": [
       "Batches:   0%|          | 0/1 [00:00<?, ?it/s]"
      ]
     },
     "metadata": {},
     "output_type": "display_data"
    },
    {
     "data": {
      "application/vnd.jupyter.widget-view+json": {
       "model_id": "1237456f3d9849a88cabbb8544406010",
       "version_major": 2,
       "version_minor": 0
      },
      "text/plain": [
       "Batches:   0%|          | 0/1 [00:00<?, ?it/s]"
      ]
     },
     "metadata": {},
     "output_type": "display_data"
    },
    {
     "data": {
      "application/vnd.jupyter.widget-view+json": {
       "model_id": "2d67abc6fde2420f810e331b805b3f33",
       "version_major": 2,
       "version_minor": 0
      },
      "text/plain": [
       "Batches:   0%|          | 0/1 [00:00<?, ?it/s]"
      ]
     },
     "metadata": {},
     "output_type": "display_data"
    },
    {
     "data": {
      "application/vnd.jupyter.widget-view+json": {
       "model_id": "5c7ed47f92314f1589efef7aaf7575d9",
       "version_major": 2,
       "version_minor": 0
      },
      "text/plain": [
       "Batches:   0%|          | 0/1 [00:00<?, ?it/s]"
      ]
     },
     "metadata": {},
     "output_type": "display_data"
    },
    {
     "name": "stderr",
     "output_type": "stream",
     "text": [
      "2025-06-30 18:18:15,048 - INFO - Saved 5 chunks for topic 11 to Pinecone\n",
      "Summarizing topics:  20%|██        | 9/45 [01:42<06:09, 10.27s/it]2025-06-30 18:18:15,051 - INFO - Generating summary for topic 13 with 11 documents\n",
      "2025-06-30 18:18:15,052 - INFO - Combined text length: 36413 characters\n",
      "2025-06-30 18:18:25,906 - INFO - HTTP Request: POST https://api.openai.com/v1/chat/completions \"HTTP/1.1 200 OK\"\n",
      "2025-06-30 18:18:25,914 - INFO - Successfully generated summary for topic 13: 2789 characters\n",
      "2025-06-30 18:18:26,449 - INFO - Saved topic 13 to S3: rizzbot/Summaries/run_1/topic_13.json\n"
     ]
    },
    {
     "data": {
      "application/vnd.jupyter.widget-view+json": {
       "model_id": "439000035982473cace0ff7fa329168b",
       "version_major": 2,
       "version_minor": 0
      },
      "text/plain": [
       "Batches:   0%|          | 0/1 [00:00<?, ?it/s]"
      ]
     },
     "metadata": {},
     "output_type": "display_data"
    },
    {
     "data": {
      "application/vnd.jupyter.widget-view+json": {
       "model_id": "cd3e5aa6249b4ab99f630e66a8d9878e",
       "version_major": 2,
       "version_minor": 0
      },
      "text/plain": [
       "Batches:   0%|          | 0/1 [00:00<?, ?it/s]"
      ]
     },
     "metadata": {},
     "output_type": "display_data"
    },
    {
     "data": {
      "application/vnd.jupyter.widget-view+json": {
       "model_id": "fe94447c46bc44e7a038605e248456f0",
       "version_major": 2,
       "version_minor": 0
      },
      "text/plain": [
       "Batches:   0%|          | 0/1 [00:00<?, ?it/s]"
      ]
     },
     "metadata": {},
     "output_type": "display_data"
    },
    {
     "data": {
      "application/vnd.jupyter.widget-view+json": {
       "model_id": "ac9e673e7c2f4b5dba0be7e89ccd4706",
       "version_major": 2,
       "version_minor": 0
      },
      "text/plain": [
       "Batches:   0%|          | 0/1 [00:00<?, ?it/s]"
      ]
     },
     "metadata": {},
     "output_type": "display_data"
    },
    {
     "data": {
      "application/vnd.jupyter.widget-view+json": {
       "model_id": "d6137445ac9e4493b9e8a544ab286c20",
       "version_major": 2,
       "version_minor": 0
      },
      "text/plain": [
       "Batches:   0%|          | 0/1 [00:00<?, ?it/s]"
      ]
     },
     "metadata": {},
     "output_type": "display_data"
    },
    {
     "data": {
      "application/vnd.jupyter.widget-view+json": {
       "model_id": "d8ed3856c4df4d1cafd988279a4884c0",
       "version_major": 2,
       "version_minor": 0
      },
      "text/plain": [
       "Batches:   0%|          | 0/1 [00:00<?, ?it/s]"
      ]
     },
     "metadata": {},
     "output_type": "display_data"
    },
    {
     "name": "stderr",
     "output_type": "stream",
     "text": [
      "2025-06-30 18:18:26,757 - INFO - Saved 6 chunks for topic 13 to Pinecone\n",
      "Summarizing topics:  22%|██▏       | 10/45 [01:53<06:14, 10.71s/it]2025-06-30 18:18:26,760 - INFO - Generating summary for topic 14 with 10 documents\n",
      "2025-06-30 18:18:26,762 - INFO - Combined text length: 35004 characters\n",
      "2025-06-30 18:18:38,692 - INFO - HTTP Request: POST https://api.openai.com/v1/chat/completions \"HTTP/1.1 200 OK\"\n",
      "2025-06-30 18:18:38,697 - INFO - Successfully generated summary for topic 14: 2936 characters\n",
      "2025-06-30 18:18:39,252 - INFO - Saved topic 14 to S3: rizzbot/Summaries/run_1/topic_14.json\n"
     ]
    },
    {
     "data": {
      "application/vnd.jupyter.widget-view+json": {
       "model_id": "fb0e79b246814e019211db4beda3d6b4",
       "version_major": 2,
       "version_minor": 0
      },
      "text/plain": [
       "Batches:   0%|          | 0/1 [00:00<?, ?it/s]"
      ]
     },
     "metadata": {},
     "output_type": "display_data"
    },
    {
     "data": {
      "application/vnd.jupyter.widget-view+json": {
       "model_id": "45299c4745d24f57bafc1223d878d20e",
       "version_major": 2,
       "version_minor": 0
      },
      "text/plain": [
       "Batches:   0%|          | 0/1 [00:00<?, ?it/s]"
      ]
     },
     "metadata": {},
     "output_type": "display_data"
    },
    {
     "data": {
      "application/vnd.jupyter.widget-view+json": {
       "model_id": "aae12d1447264970af0a28de619e66ea",
       "version_major": 2,
       "version_minor": 0
      },
      "text/plain": [
       "Batches:   0%|          | 0/1 [00:00<?, ?it/s]"
      ]
     },
     "metadata": {},
     "output_type": "display_data"
    },
    {
     "data": {
      "application/vnd.jupyter.widget-view+json": {
       "model_id": "e8520358246a44bf80060a0f3e728ed3",
       "version_major": 2,
       "version_minor": 0
      },
      "text/plain": [
       "Batches:   0%|          | 0/1 [00:00<?, ?it/s]"
      ]
     },
     "metadata": {},
     "output_type": "display_data"
    },
    {
     "data": {
      "application/vnd.jupyter.widget-view+json": {
       "model_id": "3389341e2e4c4c058153671c91db8c66",
       "version_major": 2,
       "version_minor": 0
      },
      "text/plain": [
       "Batches:   0%|          | 0/1 [00:00<?, ?it/s]"
      ]
     },
     "metadata": {},
     "output_type": "display_data"
    },
    {
     "data": {
      "application/vnd.jupyter.widget-view+json": {
       "model_id": "5d9e704e91244e8fa42adde081947e83",
       "version_major": 2,
       "version_minor": 0
      },
      "text/plain": [
       "Batches:   0%|          | 0/1 [00:00<?, ?it/s]"
      ]
     },
     "metadata": {},
     "output_type": "display_data"
    },
    {
     "name": "stderr",
     "output_type": "stream",
     "text": [
      "2025-06-30 18:18:39,551 - INFO - Saved 6 chunks for topic 14 to Pinecone\n",
      "Summarizing topics:  24%|██▍       | 11/45 [02:06<06:25, 11.35s/it]2025-06-30 18:18:39,554 - INFO - Generating summary for topic 15 with 10 documents\n",
      "2025-06-30 18:18:39,556 - INFO - Combined text length: 35164 characters\n",
      "2025-06-30 18:18:46,769 - INFO - HTTP Request: POST https://api.openai.com/v1/chat/completions \"HTTP/1.1 200 OK\"\n",
      "2025-06-30 18:18:46,784 - INFO - Successfully generated summary for topic 15: 2648 characters\n",
      "2025-06-30 18:18:47,320 - INFO - Saved topic 15 to S3: rizzbot/Summaries/run_1/topic_15.json\n"
     ]
    },
    {
     "data": {
      "application/vnd.jupyter.widget-view+json": {
       "model_id": "18d634c860b24d23b16d625643156aa5",
       "version_major": 2,
       "version_minor": 0
      },
      "text/plain": [
       "Batches:   0%|          | 0/1 [00:00<?, ?it/s]"
      ]
     },
     "metadata": {},
     "output_type": "display_data"
    },
    {
     "data": {
      "application/vnd.jupyter.widget-view+json": {
       "model_id": "3a96e41d30eb473381a49317d91d6413",
       "version_major": 2,
       "version_minor": 0
      },
      "text/plain": [
       "Batches:   0%|          | 0/1 [00:00<?, ?it/s]"
      ]
     },
     "metadata": {},
     "output_type": "display_data"
    },
    {
     "data": {
      "application/vnd.jupyter.widget-view+json": {
       "model_id": "9c2722cc976148c88540c0177908f7cb",
       "version_major": 2,
       "version_minor": 0
      },
      "text/plain": [
       "Batches:   0%|          | 0/1 [00:00<?, ?it/s]"
      ]
     },
     "metadata": {},
     "output_type": "display_data"
    },
    {
     "data": {
      "application/vnd.jupyter.widget-view+json": {
       "model_id": "8c6dab9596104da485a21e80796e76ea",
       "version_major": 2,
       "version_minor": 0
      },
      "text/plain": [
       "Batches:   0%|          | 0/1 [00:00<?, ?it/s]"
      ]
     },
     "metadata": {},
     "output_type": "display_data"
    },
    {
     "data": {
      "application/vnd.jupyter.widget-view+json": {
       "model_id": "819c1809768c4426966edf24cd067fdc",
       "version_major": 2,
       "version_minor": 0
      },
      "text/plain": [
       "Batches:   0%|          | 0/1 [00:00<?, ?it/s]"
      ]
     },
     "metadata": {},
     "output_type": "display_data"
    },
    {
     "data": {
      "application/vnd.jupyter.widget-view+json": {
       "model_id": "6d59e16a65fe4493aadfcc57c4c1cf06",
       "version_major": 2,
       "version_minor": 0
      },
      "text/plain": [
       "Batches:   0%|          | 0/1 [00:00<?, ?it/s]"
      ]
     },
     "metadata": {},
     "output_type": "display_data"
    },
    {
     "name": "stderr",
     "output_type": "stream",
     "text": [
      "2025-06-30 18:18:47,647 - INFO - Saved 6 chunks for topic 15 to Pinecone\n",
      "Summarizing topics:  27%|██▋       | 12/45 [02:14<05:41, 10.36s/it]2025-06-30 18:18:47,651 - INFO - Generating summary for topic 16 with 9 documents\n",
      "2025-06-30 18:18:47,652 - INFO - Combined text length: 19626 characters\n",
      "2025-06-30 18:18:57,918 - INFO - HTTP Request: POST https://api.openai.com/v1/chat/completions \"HTTP/1.1 200 OK\"\n",
      "2025-06-30 18:18:57,922 - INFO - Successfully generated summary for topic 16: 2765 characters\n",
      "2025-06-30 18:18:58,505 - INFO - Saved topic 16 to S3: rizzbot/Summaries/run_1/topic_16.json\n"
     ]
    },
    {
     "data": {
      "application/vnd.jupyter.widget-view+json": {
       "model_id": "7b55e2276595495f9da905ca577d6438",
       "version_major": 2,
       "version_minor": 0
      },
      "text/plain": [
       "Batches:   0%|          | 0/1 [00:00<?, ?it/s]"
      ]
     },
     "metadata": {},
     "output_type": "display_data"
    },
    {
     "data": {
      "application/vnd.jupyter.widget-view+json": {
       "model_id": "6cde1e5e5aa944d988c12bf7483236f7",
       "version_major": 2,
       "version_minor": 0
      },
      "text/plain": [
       "Batches:   0%|          | 0/1 [00:00<?, ?it/s]"
      ]
     },
     "metadata": {},
     "output_type": "display_data"
    },
    {
     "data": {
      "application/vnd.jupyter.widget-view+json": {
       "model_id": "42059d035f97405abe9b2cb20a9f99be",
       "version_major": 2,
       "version_minor": 0
      },
      "text/plain": [
       "Batches:   0%|          | 0/1 [00:00<?, ?it/s]"
      ]
     },
     "metadata": {},
     "output_type": "display_data"
    },
    {
     "data": {
      "application/vnd.jupyter.widget-view+json": {
       "model_id": "49f300abfc654fad8888ea6c40ebe13b",
       "version_major": 2,
       "version_minor": 0
      },
      "text/plain": [
       "Batches:   0%|          | 0/1 [00:00<?, ?it/s]"
      ]
     },
     "metadata": {},
     "output_type": "display_data"
    },
    {
     "data": {
      "application/vnd.jupyter.widget-view+json": {
       "model_id": "4d21e03ff1584491a335e34d39835f3b",
       "version_major": 2,
       "version_minor": 0
      },
      "text/plain": [
       "Batches:   0%|          | 0/1 [00:00<?, ?it/s]"
      ]
     },
     "metadata": {},
     "output_type": "display_data"
    },
    {
     "data": {
      "application/vnd.jupyter.widget-view+json": {
       "model_id": "967f791f417049a892a2c4cb869b970a",
       "version_major": 2,
       "version_minor": 0
      },
      "text/plain": [
       "Batches:   0%|          | 0/1 [00:00<?, ?it/s]"
      ]
     },
     "metadata": {},
     "output_type": "display_data"
    },
    {
     "name": "stderr",
     "output_type": "stream",
     "text": [
      "2025-06-30 18:18:58,795 - INFO - Saved 6 chunks for topic 16 to Pinecone\n",
      "Summarizing topics:  29%|██▉       | 13/45 [02:25<05:39, 10.60s/it]2025-06-30 18:18:58,798 - INFO - Generating summary for topic 17 with 9 documents\n",
      "2025-06-30 18:18:58,799 - INFO - Combined text length: 31391 characters\n",
      "2025-06-30 18:19:06,080 - INFO - HTTP Request: POST https://api.openai.com/v1/chat/completions \"HTTP/1.1 200 OK\"\n",
      "2025-06-30 18:19:06,082 - INFO - Successfully generated summary for topic 17: 2959 characters\n",
      "2025-06-30 18:19:06,711 - INFO - Saved topic 17 to S3: rizzbot/Summaries/run_1/topic_17.json\n"
     ]
    },
    {
     "data": {
      "application/vnd.jupyter.widget-view+json": {
       "model_id": "01395a74aba146769112807359199b5d",
       "version_major": 2,
       "version_minor": 0
      },
      "text/plain": [
       "Batches:   0%|          | 0/1 [00:00<?, ?it/s]"
      ]
     },
     "metadata": {},
     "output_type": "display_data"
    },
    {
     "data": {
      "application/vnd.jupyter.widget-view+json": {
       "model_id": "8c5ad23dab814788b834c7571fc5a276",
       "version_major": 2,
       "version_minor": 0
      },
      "text/plain": [
       "Batches:   0%|          | 0/1 [00:00<?, ?it/s]"
      ]
     },
     "metadata": {},
     "output_type": "display_data"
    },
    {
     "data": {
      "application/vnd.jupyter.widget-view+json": {
       "model_id": "e637bdb9da0c4f9e81d6522ac068339a",
       "version_major": 2,
       "version_minor": 0
      },
      "text/plain": [
       "Batches:   0%|          | 0/1 [00:00<?, ?it/s]"
      ]
     },
     "metadata": {},
     "output_type": "display_data"
    },
    {
     "data": {
      "application/vnd.jupyter.widget-view+json": {
       "model_id": "1527a3034f3f471195e9ff8d7dc8feda",
       "version_major": 2,
       "version_minor": 0
      },
      "text/plain": [
       "Batches:   0%|          | 0/1 [00:00<?, ?it/s]"
      ]
     },
     "metadata": {},
     "output_type": "display_data"
    },
    {
     "data": {
      "application/vnd.jupyter.widget-view+json": {
       "model_id": "3ae33e4ed5544be0be97d5e16a7e1036",
       "version_major": 2,
       "version_minor": 0
      },
      "text/plain": [
       "Batches:   0%|          | 0/1 [00:00<?, ?it/s]"
      ]
     },
     "metadata": {},
     "output_type": "display_data"
    },
    {
     "data": {
      "application/vnd.jupyter.widget-view+json": {
       "model_id": "ed4056f79d154270930f7de6d31f7850",
       "version_major": 2,
       "version_minor": 0
      },
      "text/plain": [
       "Batches:   0%|          | 0/1 [00:00<?, ?it/s]"
      ]
     },
     "metadata": {},
     "output_type": "display_data"
    },
    {
     "name": "stderr",
     "output_type": "stream",
     "text": [
      "2025-06-30 18:19:07,023 - INFO - Saved 6 chunks for topic 17 to Pinecone\n",
      "Summarizing topics:  31%|███       | 14/45 [02:34<05:06,  9.88s/it]2025-06-30 18:19:07,027 - INFO - Generating summary for topic 18 with 9 documents\n",
      "2025-06-30 18:19:07,028 - INFO - Combined text length: 32047 characters\n",
      "2025-06-30 18:19:17,073 - INFO - HTTP Request: POST https://api.openai.com/v1/chat/completions \"HTTP/1.1 200 OK\"\n",
      "2025-06-30 18:19:17,076 - INFO - Successfully generated summary for topic 18: 2625 characters\n",
      "2025-06-30 18:19:17,619 - INFO - Saved topic 18 to S3: rizzbot/Summaries/run_1/topic_18.json\n"
     ]
    },
    {
     "data": {
      "application/vnd.jupyter.widget-view+json": {
       "model_id": "5ecde9174b02488c86972f6ec96353cf",
       "version_major": 2,
       "version_minor": 0
      },
      "text/plain": [
       "Batches:   0%|          | 0/1 [00:00<?, ?it/s]"
      ]
     },
     "metadata": {},
     "output_type": "display_data"
    },
    {
     "data": {
      "application/vnd.jupyter.widget-view+json": {
       "model_id": "051e6a50730e4f6e943fece909c6e9a3",
       "version_major": 2,
       "version_minor": 0
      },
      "text/plain": [
       "Batches:   0%|          | 0/1 [00:00<?, ?it/s]"
      ]
     },
     "metadata": {},
     "output_type": "display_data"
    },
    {
     "data": {
      "application/vnd.jupyter.widget-view+json": {
       "model_id": "a2f168b89cc74ed7ac9a93f5eb4c8bc3",
       "version_major": 2,
       "version_minor": 0
      },
      "text/plain": [
       "Batches:   0%|          | 0/1 [00:00<?, ?it/s]"
      ]
     },
     "metadata": {},
     "output_type": "display_data"
    },
    {
     "data": {
      "application/vnd.jupyter.widget-view+json": {
       "model_id": "59a19c08dfb6430896752ad1d2b53032",
       "version_major": 2,
       "version_minor": 0
      },
      "text/plain": [
       "Batches:   0%|          | 0/1 [00:00<?, ?it/s]"
      ]
     },
     "metadata": {},
     "output_type": "display_data"
    },
    {
     "data": {
      "application/vnd.jupyter.widget-view+json": {
       "model_id": "2eeb18d8d1ab48828274df6b02fe8cc9",
       "version_major": 2,
       "version_minor": 0
      },
      "text/plain": [
       "Batches:   0%|          | 0/1 [00:00<?, ?it/s]"
      ]
     },
     "metadata": {},
     "output_type": "display_data"
    },
    {
     "data": {
      "application/vnd.jupyter.widget-view+json": {
       "model_id": "f29b8300b15148338f07acc015e6d825",
       "version_major": 2,
       "version_minor": 0
      },
      "text/plain": [
       "Batches:   0%|          | 0/1 [00:00<?, ?it/s]"
      ]
     },
     "metadata": {},
     "output_type": "display_data"
    },
    {
     "name": "stderr",
     "output_type": "stream",
     "text": [
      "2025-06-30 18:19:17,910 - INFO - Saved 6 chunks for topic 18 to Pinecone\n",
      "Summarizing topics:  33%|███▎      | 15/45 [02:44<05:05, 10.19s/it]2025-06-30 18:19:17,913 - INFO - Generating summary for topic 19 with 9 documents\n",
      "2025-06-30 18:19:17,914 - INFO - Combined text length: 31748 characters\n",
      "2025-06-30 18:19:28,292 - INFO - HTTP Request: POST https://api.openai.com/v1/chat/completions \"HTTP/1.1 200 OK\"\n",
      "2025-06-30 18:19:28,297 - INFO - Successfully generated summary for topic 19: 2479 characters\n",
      "2025-06-30 18:19:28,867 - INFO - Saved topic 19 to S3: rizzbot/Summaries/run_1/topic_19.json\n"
     ]
    },
    {
     "data": {
      "application/vnd.jupyter.widget-view+json": {
       "model_id": "39904fc7436b48059ecdd110d1c2b6c2",
       "version_major": 2,
       "version_minor": 0
      },
      "text/plain": [
       "Batches:   0%|          | 0/1 [00:00<?, ?it/s]"
      ]
     },
     "metadata": {},
     "output_type": "display_data"
    },
    {
     "data": {
      "application/vnd.jupyter.widget-view+json": {
       "model_id": "4d3d0d33db6b4de98deb3359f54cc5c0",
       "version_major": 2,
       "version_minor": 0
      },
      "text/plain": [
       "Batches:   0%|          | 0/1 [00:00<?, ?it/s]"
      ]
     },
     "metadata": {},
     "output_type": "display_data"
    },
    {
     "data": {
      "application/vnd.jupyter.widget-view+json": {
       "model_id": "56d8fb2b28404c0b968fb6b1e0dd8450",
       "version_major": 2,
       "version_minor": 0
      },
      "text/plain": [
       "Batches:   0%|          | 0/1 [00:00<?, ?it/s]"
      ]
     },
     "metadata": {},
     "output_type": "display_data"
    },
    {
     "data": {
      "application/vnd.jupyter.widget-view+json": {
       "model_id": "bc09181ce8394087bd56811a011cf197",
       "version_major": 2,
       "version_minor": 0
      },
      "text/plain": [
       "Batches:   0%|          | 0/1 [00:00<?, ?it/s]"
      ]
     },
     "metadata": {},
     "output_type": "display_data"
    },
    {
     "data": {
      "application/vnd.jupyter.widget-view+json": {
       "model_id": "552450eea7724390832591f6e5515366",
       "version_major": 2,
       "version_minor": 0
      },
      "text/plain": [
       "Batches:   0%|          | 0/1 [00:00<?, ?it/s]"
      ]
     },
     "metadata": {},
     "output_type": "display_data"
    },
    {
     "name": "stderr",
     "output_type": "stream",
     "text": [
      "2025-06-30 18:19:29,129 - INFO - Saved 5 chunks for topic 19 to Pinecone\n",
      "Summarizing topics:  36%|███▌      | 16/45 [02:56<05:04, 10.50s/it]2025-06-30 18:19:29,131 - INFO - Generating summary for topic 20 with 8 documents\n",
      "2025-06-30 18:19:29,132 - INFO - Combined text length: 29209 characters\n",
      "2025-06-30 18:19:38,692 - INFO - HTTP Request: POST https://api.openai.com/v1/chat/completions \"HTTP/1.1 200 OK\"\n",
      "2025-06-30 18:19:38,696 - INFO - Successfully generated summary for topic 20: 2891 characters\n",
      "2025-06-30 18:19:39,284 - INFO - Saved topic 20 to S3: rizzbot/Summaries/run_1/topic_20.json\n"
     ]
    },
    {
     "data": {
      "application/vnd.jupyter.widget-view+json": {
       "model_id": "9dde0969bddf414c92d1ba3cffc3333d",
       "version_major": 2,
       "version_minor": 0
      },
      "text/plain": [
       "Batches:   0%|          | 0/1 [00:00<?, ?it/s]"
      ]
     },
     "metadata": {},
     "output_type": "display_data"
    },
    {
     "data": {
      "application/vnd.jupyter.widget-view+json": {
       "model_id": "5b23bb640f794922ba791eef7d24d4cf",
       "version_major": 2,
       "version_minor": 0
      },
      "text/plain": [
       "Batches:   0%|          | 0/1 [00:00<?, ?it/s]"
      ]
     },
     "metadata": {},
     "output_type": "display_data"
    },
    {
     "data": {
      "application/vnd.jupyter.widget-view+json": {
       "model_id": "a89471e1fd8044cf8ac2d0a0b117f008",
       "version_major": 2,
       "version_minor": 0
      },
      "text/plain": [
       "Batches:   0%|          | 0/1 [00:00<?, ?it/s]"
      ]
     },
     "metadata": {},
     "output_type": "display_data"
    },
    {
     "data": {
      "application/vnd.jupyter.widget-view+json": {
       "model_id": "885a789f0a1b44f992c86bf366104e01",
       "version_major": 2,
       "version_minor": 0
      },
      "text/plain": [
       "Batches:   0%|          | 0/1 [00:00<?, ?it/s]"
      ]
     },
     "metadata": {},
     "output_type": "display_data"
    },
    {
     "data": {
      "application/vnd.jupyter.widget-view+json": {
       "model_id": "12d18ccd86bc4f65bfdc3b0fa8db8297",
       "version_major": 2,
       "version_minor": 0
      },
      "text/plain": [
       "Batches:   0%|          | 0/1 [00:00<?, ?it/s]"
      ]
     },
     "metadata": {},
     "output_type": "display_data"
    },
    {
     "data": {
      "application/vnd.jupyter.widget-view+json": {
       "model_id": "b0f7087431ac45f08cd1ace9f822500c",
       "version_major": 2,
       "version_minor": 0
      },
      "text/plain": [
       "Batches:   0%|          | 0/1 [00:00<?, ?it/s]"
      ]
     },
     "metadata": {},
     "output_type": "display_data"
    },
    {
     "name": "stderr",
     "output_type": "stream",
     "text": [
      "2025-06-30 18:19:39,935 - INFO - Saved 6 chunks for topic 20 to Pinecone\n",
      "Summarizing topics:  38%|███▊      | 17/45 [03:07<04:56, 10.59s/it]2025-06-30 18:19:39,939 - INFO - Generating summary for topic 21 with 8 documents\n",
      "2025-06-30 18:19:39,940 - INFO - Combined text length: 3929 characters\n",
      "2025-06-30 18:19:44,989 - INFO - HTTP Request: POST https://api.openai.com/v1/chat/completions \"HTTP/1.1 200 OK\"\n",
      "2025-06-30 18:19:44,994 - INFO - Successfully generated summary for topic 21: 1753 characters\n",
      "2025-06-30 18:19:45,098 - INFO - Saved topic 21 to S3: rizzbot/Summaries/run_1/topic_21.json\n"
     ]
    },
    {
     "data": {
      "application/vnd.jupyter.widget-view+json": {
       "model_id": "a0605098e07f4f11a9243fe3f6ca92e6",
       "version_major": 2,
       "version_minor": 0
      },
      "text/plain": [
       "Batches:   0%|          | 0/1 [00:00<?, ?it/s]"
      ]
     },
     "metadata": {},
     "output_type": "display_data"
    },
    {
     "data": {
      "application/vnd.jupyter.widget-view+json": {
       "model_id": "82962eb40c6b446e926cfcce4ae73b49",
       "version_major": 2,
       "version_minor": 0
      },
      "text/plain": [
       "Batches:   0%|          | 0/1 [00:00<?, ?it/s]"
      ]
     },
     "metadata": {},
     "output_type": "display_data"
    },
    {
     "data": {
      "application/vnd.jupyter.widget-view+json": {
       "model_id": "1b16fa3e92af4cc48e000df9f10919cc",
       "version_major": 2,
       "version_minor": 0
      },
      "text/plain": [
       "Batches:   0%|          | 0/1 [00:00<?, ?it/s]"
      ]
     },
     "metadata": {},
     "output_type": "display_data"
    },
    {
     "data": {
      "application/vnd.jupyter.widget-view+json": {
       "model_id": "bae5f156852f4a41b0f85e481dfcdf57",
       "version_major": 2,
       "version_minor": 0
      },
      "text/plain": [
       "Batches:   0%|          | 0/1 [00:00<?, ?it/s]"
      ]
     },
     "metadata": {},
     "output_type": "display_data"
    },
    {
     "name": "stderr",
     "output_type": "stream",
     "text": [
      "2025-06-30 18:19:45,372 - INFO - Saved 4 chunks for topic 21 to Pinecone\n",
      "Summarizing topics:  40%|████      | 18/45 [03:12<04:04,  9.04s/it]2025-06-30 18:19:45,374 - INFO - Generating summary for topic 24 with 8 documents\n",
      "2025-06-30 18:19:45,375 - INFO - Combined text length: 25502 characters\n",
      "2025-06-30 18:19:57,424 - INFO - HTTP Request: POST https://api.openai.com/v1/chat/completions \"HTTP/1.1 200 OK\"\n",
      "2025-06-30 18:19:57,430 - INFO - Successfully generated summary for topic 24: 2942 characters\n",
      "2025-06-30 18:19:57,969 - INFO - Saved topic 24 to S3: rizzbot/Summaries/run_1/topic_24.json\n"
     ]
    },
    {
     "data": {
      "application/vnd.jupyter.widget-view+json": {
       "model_id": "2c2df618284944bc878ad92bed4a1ccd",
       "version_major": 2,
       "version_minor": 0
      },
      "text/plain": [
       "Batches:   0%|          | 0/1 [00:00<?, ?it/s]"
      ]
     },
     "metadata": {},
     "output_type": "display_data"
    },
    {
     "data": {
      "application/vnd.jupyter.widget-view+json": {
       "model_id": "8ac04ee7b4cb4a0c848e7a86b745702e",
       "version_major": 2,
       "version_minor": 0
      },
      "text/plain": [
       "Batches:   0%|          | 0/1 [00:00<?, ?it/s]"
      ]
     },
     "metadata": {},
     "output_type": "display_data"
    },
    {
     "data": {
      "application/vnd.jupyter.widget-view+json": {
       "model_id": "eb3ae8432ab6483fbaf214b5ca34a02a",
       "version_major": 2,
       "version_minor": 0
      },
      "text/plain": [
       "Batches:   0%|          | 0/1 [00:00<?, ?it/s]"
      ]
     },
     "metadata": {},
     "output_type": "display_data"
    },
    {
     "data": {
      "application/vnd.jupyter.widget-view+json": {
       "model_id": "164c4c33ecf6418d9351a6eea0c19e8b",
       "version_major": 2,
       "version_minor": 0
      },
      "text/plain": [
       "Batches:   0%|          | 0/1 [00:00<?, ?it/s]"
      ]
     },
     "metadata": {},
     "output_type": "display_data"
    },
    {
     "data": {
      "application/vnd.jupyter.widget-view+json": {
       "model_id": "41c7cbf410a44647b9700499722949da",
       "version_major": 2,
       "version_minor": 0
      },
      "text/plain": [
       "Batches:   0%|          | 0/1 [00:00<?, ?it/s]"
      ]
     },
     "metadata": {},
     "output_type": "display_data"
    },
    {
     "data": {
      "application/vnd.jupyter.widget-view+json": {
       "model_id": "f36a249e6cf1409ebe22b1171b3959d5",
       "version_major": 2,
       "version_minor": 0
      },
      "text/plain": [
       "Batches:   0%|          | 0/1 [00:00<?, ?it/s]"
      ]
     },
     "metadata": {},
     "output_type": "display_data"
    },
    {
     "name": "stderr",
     "output_type": "stream",
     "text": [
      "2025-06-30 18:19:58,282 - INFO - Saved 6 chunks for topic 24 to Pinecone\n",
      "Summarizing topics:  42%|████▏     | 19/45 [03:25<04:25, 10.20s/it]2025-06-30 18:19:58,284 - INFO - Generating summary for topic 25 with 8 documents\n",
      "2025-06-30 18:19:58,285 - INFO - Combined text length: 28739 characters\n",
      "2025-06-30 18:20:10,801 - INFO - HTTP Request: POST https://api.openai.com/v1/chat/completions \"HTTP/1.1 200 OK\"\n",
      "2025-06-30 18:20:10,805 - INFO - Successfully generated summary for topic 25: 3032 characters\n",
      "2025-06-30 18:20:11,410 - INFO - Saved topic 25 to S3: rizzbot/Summaries/run_1/topic_25.json\n"
     ]
    },
    {
     "data": {
      "application/vnd.jupyter.widget-view+json": {
       "model_id": "1a75e4507b8a4e1a85acec18c90d3353",
       "version_major": 2,
       "version_minor": 0
      },
      "text/plain": [
       "Batches:   0%|          | 0/1 [00:00<?, ?it/s]"
      ]
     },
     "metadata": {},
     "output_type": "display_data"
    },
    {
     "data": {
      "application/vnd.jupyter.widget-view+json": {
       "model_id": "28f075c82ac84653a24947868fbfdf69",
       "version_major": 2,
       "version_minor": 0
      },
      "text/plain": [
       "Batches:   0%|          | 0/1 [00:00<?, ?it/s]"
      ]
     },
     "metadata": {},
     "output_type": "display_data"
    },
    {
     "data": {
      "application/vnd.jupyter.widget-view+json": {
       "model_id": "fc278327f58a43e09a166d66d2ada4d9",
       "version_major": 2,
       "version_minor": 0
      },
      "text/plain": [
       "Batches:   0%|          | 0/1 [00:00<?, ?it/s]"
      ]
     },
     "metadata": {},
     "output_type": "display_data"
    },
    {
     "data": {
      "application/vnd.jupyter.widget-view+json": {
       "model_id": "0603f1d94fa3489bbf84824ba7caeac4",
       "version_major": 2,
       "version_minor": 0
      },
      "text/plain": [
       "Batches:   0%|          | 0/1 [00:00<?, ?it/s]"
      ]
     },
     "metadata": {},
     "output_type": "display_data"
    },
    {
     "data": {
      "application/vnd.jupyter.widget-view+json": {
       "model_id": "b42bbbfdcc114b178312cc74c1c20d66",
       "version_major": 2,
       "version_minor": 0
      },
      "text/plain": [
       "Batches:   0%|          | 0/1 [00:00<?, ?it/s]"
      ]
     },
     "metadata": {},
     "output_type": "display_data"
    },
    {
     "data": {
      "application/vnd.jupyter.widget-view+json": {
       "model_id": "2c6fcd59969c466f92cbfab618a93802",
       "version_major": 2,
       "version_minor": 0
      },
      "text/plain": [
       "Batches:   0%|          | 0/1 [00:00<?, ?it/s]"
      ]
     },
     "metadata": {},
     "output_type": "display_data"
    },
    {
     "data": {
      "application/vnd.jupyter.widget-view+json": {
       "model_id": "fedb0802c79943658705729271c31e39",
       "version_major": 2,
       "version_minor": 0
      },
      "text/plain": [
       "Batches:   0%|          | 0/1 [00:00<?, ?it/s]"
      ]
     },
     "metadata": {},
     "output_type": "display_data"
    },
    {
     "name": "stderr",
     "output_type": "stream",
     "text": [
      "2025-06-30 18:20:11,739 - INFO - Saved 7 chunks for topic 25 to Pinecone\n",
      "Summarizing topics:  44%|████▍     | 20/45 [03:38<04:39, 11.18s/it]2025-06-30 18:20:11,741 - INFO - Generating summary for topic 26 with 8 documents\n",
      "2025-06-30 18:20:11,742 - INFO - Combined text length: 29870 characters\n",
      "2025-06-30 18:20:21,772 - INFO - HTTP Request: POST https://api.openai.com/v1/chat/completions \"HTTP/1.1 200 OK\"\n",
      "2025-06-30 18:20:21,779 - INFO - Successfully generated summary for topic 26: 3191 characters\n",
      "2025-06-30 18:20:22,293 - INFO - Saved topic 26 to S3: rizzbot/Summaries/run_1/topic_26.json\n"
     ]
    },
    {
     "data": {
      "application/vnd.jupyter.widget-view+json": {
       "model_id": "5c031ec783c54e3e8dd7f262108ee345",
       "version_major": 2,
       "version_minor": 0
      },
      "text/plain": [
       "Batches:   0%|          | 0/1 [00:00<?, ?it/s]"
      ]
     },
     "metadata": {},
     "output_type": "display_data"
    },
    {
     "data": {
      "application/vnd.jupyter.widget-view+json": {
       "model_id": "46bfe587575945de80c4891592cef44e",
       "version_major": 2,
       "version_minor": 0
      },
      "text/plain": [
       "Batches:   0%|          | 0/1 [00:00<?, ?it/s]"
      ]
     },
     "metadata": {},
     "output_type": "display_data"
    },
    {
     "data": {
      "application/vnd.jupyter.widget-view+json": {
       "model_id": "dda931fe40ba4759b17c8a215be36797",
       "version_major": 2,
       "version_minor": 0
      },
      "text/plain": [
       "Batches:   0%|          | 0/1 [00:00<?, ?it/s]"
      ]
     },
     "metadata": {},
     "output_type": "display_data"
    },
    {
     "data": {
      "application/vnd.jupyter.widget-view+json": {
       "model_id": "054f8a975cb140a2bf4fbdafa7746413",
       "version_major": 2,
       "version_minor": 0
      },
      "text/plain": [
       "Batches:   0%|          | 0/1 [00:00<?, ?it/s]"
      ]
     },
     "metadata": {},
     "output_type": "display_data"
    },
    {
     "data": {
      "application/vnd.jupyter.widget-view+json": {
       "model_id": "badabb77474349068c835a70a0bd28f1",
       "version_major": 2,
       "version_minor": 0
      },
      "text/plain": [
       "Batches:   0%|          | 0/1 [00:00<?, ?it/s]"
      ]
     },
     "metadata": {},
     "output_type": "display_data"
    },
    {
     "data": {
      "application/vnd.jupyter.widget-view+json": {
       "model_id": "3eb00ee9e99741f5a687922a4efd3aa6",
       "version_major": 2,
       "version_minor": 0
      },
      "text/plain": [
       "Batches:   0%|          | 0/1 [00:00<?, ?it/s]"
      ]
     },
     "metadata": {},
     "output_type": "display_data"
    },
    {
     "data": {
      "application/vnd.jupyter.widget-view+json": {
       "model_id": "ab140f565c4c446893a49597a2bc33ba",
       "version_major": 2,
       "version_minor": 0
      },
      "text/plain": [
       "Batches:   0%|          | 0/1 [00:00<?, ?it/s]"
      ]
     },
     "metadata": {},
     "output_type": "display_data"
    },
    {
     "name": "stderr",
     "output_type": "stream",
     "text": [
      "2025-06-30 18:20:22,647 - INFO - Saved 7 chunks for topic 26 to Pinecone\n",
      "Summarizing topics:  47%|████▋     | 21/45 [03:49<04:26, 11.10s/it]2025-06-30 18:20:22,649 - INFO - Generating summary for topic 27 with 6 documents\n",
      "2025-06-30 18:20:22,651 - INFO - Combined text length: 21976 characters\n",
      "2025-06-30 18:20:34,785 - INFO - HTTP Request: POST https://api.openai.com/v1/chat/completions \"HTTP/1.1 200 OK\"\n",
      "2025-06-30 18:20:34,788 - INFO - Successfully generated summary for topic 27: 3343 characters\n",
      "2025-06-30 18:20:35,338 - INFO - Saved topic 27 to S3: rizzbot/Summaries/run_1/topic_27.json\n"
     ]
    },
    {
     "data": {
      "application/vnd.jupyter.widget-view+json": {
       "model_id": "fff42a5e9b3d484ba59599e0351ba877",
       "version_major": 2,
       "version_minor": 0
      },
      "text/plain": [
       "Batches:   0%|          | 0/1 [00:00<?, ?it/s]"
      ]
     },
     "metadata": {},
     "output_type": "display_data"
    },
    {
     "data": {
      "application/vnd.jupyter.widget-view+json": {
       "model_id": "8c814f928f83480fbd585c551e1ea9f2",
       "version_major": 2,
       "version_minor": 0
      },
      "text/plain": [
       "Batches:   0%|          | 0/1 [00:00<?, ?it/s]"
      ]
     },
     "metadata": {},
     "output_type": "display_data"
    },
    {
     "data": {
      "application/vnd.jupyter.widget-view+json": {
       "model_id": "3d142d3e96f7432cadd49705a7812ff9",
       "version_major": 2,
       "version_minor": 0
      },
      "text/plain": [
       "Batches:   0%|          | 0/1 [00:00<?, ?it/s]"
      ]
     },
     "metadata": {},
     "output_type": "display_data"
    },
    {
     "data": {
      "application/vnd.jupyter.widget-view+json": {
       "model_id": "b95c7bca05e34ea4b5ee60d531690af0",
       "version_major": 2,
       "version_minor": 0
      },
      "text/plain": [
       "Batches:   0%|          | 0/1 [00:00<?, ?it/s]"
      ]
     },
     "metadata": {},
     "output_type": "display_data"
    },
    {
     "data": {
      "application/vnd.jupyter.widget-view+json": {
       "model_id": "00c7e6abe8eb44c1862eaf7d70d2d0f2",
       "version_major": 2,
       "version_minor": 0
      },
      "text/plain": [
       "Batches:   0%|          | 0/1 [00:00<?, ?it/s]"
      ]
     },
     "metadata": {},
     "output_type": "display_data"
    },
    {
     "data": {
      "application/vnd.jupyter.widget-view+json": {
       "model_id": "983002bf65b040589deb11e772886a8a",
       "version_major": 2,
       "version_minor": 0
      },
      "text/plain": [
       "Batches:   0%|          | 0/1 [00:00<?, ?it/s]"
      ]
     },
     "metadata": {},
     "output_type": "display_data"
    },
    {
     "data": {
      "application/vnd.jupyter.widget-view+json": {
       "model_id": "e3380d7ee59b49acbd4fc738383afa1a",
       "version_major": 2,
       "version_minor": 0
      },
      "text/plain": [
       "Batches:   0%|          | 0/1 [00:00<?, ?it/s]"
      ]
     },
     "metadata": {},
     "output_type": "display_data"
    },
    {
     "name": "stderr",
     "output_type": "stream",
     "text": [
      "2025-06-30 18:20:35,773 - INFO - Saved 7 chunks for topic 27 to Pinecone\n",
      "Summarizing topics:  49%|████▉     | 22/45 [04:02<04:29, 11.71s/it]2025-06-30 18:20:35,775 - INFO - Generating summary for topic 28 with 6 documents\n",
      "2025-06-30 18:20:35,776 - INFO - Combined text length: 3237 characters\n",
      "2025-06-30 18:20:42,222 - INFO - HTTP Request: POST https://api.openai.com/v1/chat/completions \"HTTP/1.1 200 OK\"\n",
      "2025-06-30 18:20:42,225 - INFO - Successfully generated summary for topic 28: 1895 characters\n",
      "2025-06-30 18:20:42,778 - INFO - Saved topic 28 to S3: rizzbot/Summaries/run_1/topic_28.json\n"
     ]
    },
    {
     "data": {
      "application/vnd.jupyter.widget-view+json": {
       "model_id": "46c76a45707648acb75e4b00a27e4118",
       "version_major": 2,
       "version_minor": 0
      },
      "text/plain": [
       "Batches:   0%|          | 0/1 [00:00<?, ?it/s]"
      ]
     },
     "metadata": {},
     "output_type": "display_data"
    },
    {
     "data": {
      "application/vnd.jupyter.widget-view+json": {
       "model_id": "55231df847a54e18a6e543e80cbbe971",
       "version_major": 2,
       "version_minor": 0
      },
      "text/plain": [
       "Batches:   0%|          | 0/1 [00:00<?, ?it/s]"
      ]
     },
     "metadata": {},
     "output_type": "display_data"
    },
    {
     "data": {
      "application/vnd.jupyter.widget-view+json": {
       "model_id": "fd12fcff014a43ce809d936662d842a7",
       "version_major": 2,
       "version_minor": 0
      },
      "text/plain": [
       "Batches:   0%|          | 0/1 [00:00<?, ?it/s]"
      ]
     },
     "metadata": {},
     "output_type": "display_data"
    },
    {
     "data": {
      "application/vnd.jupyter.widget-view+json": {
       "model_id": "53d00b4319854700a637543fc9e28668",
       "version_major": 2,
       "version_minor": 0
      },
      "text/plain": [
       "Batches:   0%|          | 0/1 [00:00<?, ?it/s]"
      ]
     },
     "metadata": {},
     "output_type": "display_data"
    },
    {
     "name": "stderr",
     "output_type": "stream",
     "text": [
      "2025-06-30 18:20:43,034 - INFO - Saved 4 chunks for topic 28 to Pinecone\n",
      "Summarizing topics:  51%|█████     | 23/45 [04:10<03:48, 10.37s/it]2025-06-30 18:20:43,036 - INFO - Generating summary for topic 30 with 6 documents\n",
      "2025-06-30 18:20:43,038 - INFO - Combined text length: 22273 characters\n",
      "2025-06-30 18:20:51,908 - INFO - HTTP Request: POST https://api.openai.com/v1/chat/completions \"HTTP/1.1 200 OK\"\n",
      "2025-06-30 18:20:51,912 - INFO - Successfully generated summary for topic 30: 2655 characters\n",
      "2025-06-30 18:20:52,442 - INFO - Saved topic 30 to S3: rizzbot/Summaries/run_1/topic_30.json\n"
     ]
    },
    {
     "data": {
      "application/vnd.jupyter.widget-view+json": {
       "model_id": "ec5516d41e054e4eb63f5451b1d33383",
       "version_major": 2,
       "version_minor": 0
      },
      "text/plain": [
       "Batches:   0%|          | 0/1 [00:00<?, ?it/s]"
      ]
     },
     "metadata": {},
     "output_type": "display_data"
    },
    {
     "data": {
      "application/vnd.jupyter.widget-view+json": {
       "model_id": "a741d6633f144a419fbb0b2c65da5340",
       "version_major": 2,
       "version_minor": 0
      },
      "text/plain": [
       "Batches:   0%|          | 0/1 [00:00<?, ?it/s]"
      ]
     },
     "metadata": {},
     "output_type": "display_data"
    },
    {
     "data": {
      "application/vnd.jupyter.widget-view+json": {
       "model_id": "21f8d21f045242a1af21f968b23377c0",
       "version_major": 2,
       "version_minor": 0
      },
      "text/plain": [
       "Batches:   0%|          | 0/1 [00:00<?, ?it/s]"
      ]
     },
     "metadata": {},
     "output_type": "display_data"
    },
    {
     "data": {
      "application/vnd.jupyter.widget-view+json": {
       "model_id": "768687177d5248cb878b90d4cc7601db",
       "version_major": 2,
       "version_minor": 0
      },
      "text/plain": [
       "Batches:   0%|          | 0/1 [00:00<?, ?it/s]"
      ]
     },
     "metadata": {},
     "output_type": "display_data"
    },
    {
     "data": {
      "application/vnd.jupyter.widget-view+json": {
       "model_id": "f0b3ceacfec64a0b9c46b63e6fa7b88a",
       "version_major": 2,
       "version_minor": 0
      },
      "text/plain": [
       "Batches:   0%|          | 0/1 [00:00<?, ?it/s]"
      ]
     },
     "metadata": {},
     "output_type": "display_data"
    },
    {
     "data": {
      "application/vnd.jupyter.widget-view+json": {
       "model_id": "fb1734f55fb945239066c35794bff6ce",
       "version_major": 2,
       "version_minor": 0
      },
      "text/plain": [
       "Batches:   0%|          | 0/1 [00:00<?, ?it/s]"
      ]
     },
     "metadata": {},
     "output_type": "display_data"
    },
    {
     "name": "stderr",
     "output_type": "stream",
     "text": [
      "2025-06-30 18:20:52,730 - INFO - Saved 6 chunks for topic 30 to Pinecone\n",
      "Summarizing topics:  53%|█████▎    | 24/45 [04:19<03:33, 10.17s/it]2025-06-30 18:20:52,733 - INFO - Generating summary for topic 31 with 6 documents\n",
      "2025-06-30 18:20:52,735 - INFO - Combined text length: 22427 characters\n",
      "2025-06-30 18:21:05,342 - INFO - HTTP Request: POST https://api.openai.com/v1/chat/completions \"HTTP/1.1 200 OK\"\n",
      "2025-06-30 18:21:05,346 - INFO - Successfully generated summary for topic 31: 3297 characters\n",
      "2025-06-30 18:21:05,901 - INFO - Saved topic 31 to S3: rizzbot/Summaries/run_1/topic_31.json\n"
     ]
    },
    {
     "data": {
      "application/vnd.jupyter.widget-view+json": {
       "model_id": "80bf4f73c6484dec8816612676036fb4",
       "version_major": 2,
       "version_minor": 0
      },
      "text/plain": [
       "Batches:   0%|          | 0/1 [00:00<?, ?it/s]"
      ]
     },
     "metadata": {},
     "output_type": "display_data"
    },
    {
     "data": {
      "application/vnd.jupyter.widget-view+json": {
       "model_id": "a179f054d0a24850afc76b1e3374b7c1",
       "version_major": 2,
       "version_minor": 0
      },
      "text/plain": [
       "Batches:   0%|          | 0/1 [00:00<?, ?it/s]"
      ]
     },
     "metadata": {},
     "output_type": "display_data"
    },
    {
     "data": {
      "application/vnd.jupyter.widget-view+json": {
       "model_id": "949c1b4f684a4cc682cd057fd1a10165",
       "version_major": 2,
       "version_minor": 0
      },
      "text/plain": [
       "Batches:   0%|          | 0/1 [00:00<?, ?it/s]"
      ]
     },
     "metadata": {},
     "output_type": "display_data"
    },
    {
     "data": {
      "application/vnd.jupyter.widget-view+json": {
       "model_id": "d71b033c131a426a81b1409fffd44088",
       "version_major": 2,
       "version_minor": 0
      },
      "text/plain": [
       "Batches:   0%|          | 0/1 [00:00<?, ?it/s]"
      ]
     },
     "metadata": {},
     "output_type": "display_data"
    },
    {
     "data": {
      "application/vnd.jupyter.widget-view+json": {
       "model_id": "511e38078aed4fa4bbae20a1aad42dc6",
       "version_major": 2,
       "version_minor": 0
      },
      "text/plain": [
       "Batches:   0%|          | 0/1 [00:00<?, ?it/s]"
      ]
     },
     "metadata": {},
     "output_type": "display_data"
    },
    {
     "data": {
      "application/vnd.jupyter.widget-view+json": {
       "model_id": "30c0197f3d5343c7a86c5cf740bb3101",
       "version_major": 2,
       "version_minor": 0
      },
      "text/plain": [
       "Batches:   0%|          | 0/1 [00:00<?, ?it/s]"
      ]
     },
     "metadata": {},
     "output_type": "display_data"
    },
    {
     "data": {
      "application/vnd.jupyter.widget-view+json": {
       "model_id": "2b83026c58bb416d8a5d5782efbba427",
       "version_major": 2,
       "version_minor": 0
      },
      "text/plain": [
       "Batches:   0%|          | 0/1 [00:00<?, ?it/s]"
      ]
     },
     "metadata": {},
     "output_type": "display_data"
    },
    {
     "name": "stderr",
     "output_type": "stream",
     "text": [
      "2025-06-30 18:21:06,242 - INFO - Saved 7 chunks for topic 31 to Pinecone\n",
      "Summarizing topics:  56%|█████▌    | 25/45 [04:33<03:43, 11.17s/it]2025-06-30 18:21:06,245 - INFO - Generating summary for topic 32 with 6 documents\n",
      "2025-06-30 18:21:06,245 - INFO - Combined text length: 23255 characters\n",
      "2025-06-30 18:21:15,643 - INFO - HTTP Request: POST https://api.openai.com/v1/chat/completions \"HTTP/1.1 200 OK\"\n",
      "2025-06-30 18:21:15,646 - INFO - Successfully generated summary for topic 32: 3251 characters\n",
      "2025-06-30 18:21:16,346 - INFO - Saved topic 32 to S3: rizzbot/Summaries/run_1/topic_32.json\n"
     ]
    },
    {
     "data": {
      "application/vnd.jupyter.widget-view+json": {
       "model_id": "4f933c6e77fc4e909f2c70932809f718",
       "version_major": 2,
       "version_minor": 0
      },
      "text/plain": [
       "Batches:   0%|          | 0/1 [00:00<?, ?it/s]"
      ]
     },
     "metadata": {},
     "output_type": "display_data"
    },
    {
     "data": {
      "application/vnd.jupyter.widget-view+json": {
       "model_id": "9899c3368fbe4131ac713905ce64cd8b",
       "version_major": 2,
       "version_minor": 0
      },
      "text/plain": [
       "Batches:   0%|          | 0/1 [00:00<?, ?it/s]"
      ]
     },
     "metadata": {},
     "output_type": "display_data"
    },
    {
     "data": {
      "application/vnd.jupyter.widget-view+json": {
       "model_id": "a5affc317d86434b931ac0410192bcca",
       "version_major": 2,
       "version_minor": 0
      },
      "text/plain": [
       "Batches:   0%|          | 0/1 [00:00<?, ?it/s]"
      ]
     },
     "metadata": {},
     "output_type": "display_data"
    },
    {
     "data": {
      "application/vnd.jupyter.widget-view+json": {
       "model_id": "08febee43976429a85e5958bfab4e6cf",
       "version_major": 2,
       "version_minor": 0
      },
      "text/plain": [
       "Batches:   0%|          | 0/1 [00:00<?, ?it/s]"
      ]
     },
     "metadata": {},
     "output_type": "display_data"
    },
    {
     "data": {
      "application/vnd.jupyter.widget-view+json": {
       "model_id": "4d0b5e3236fa4038975b018b68e92f61",
       "version_major": 2,
       "version_minor": 0
      },
      "text/plain": [
       "Batches:   0%|          | 0/1 [00:00<?, ?it/s]"
      ]
     },
     "metadata": {},
     "output_type": "display_data"
    },
    {
     "data": {
      "application/vnd.jupyter.widget-view+json": {
       "model_id": "2c492ab5e32e44a698249dcd26dd9883",
       "version_major": 2,
       "version_minor": 0
      },
      "text/plain": [
       "Batches:   0%|          | 0/1 [00:00<?, ?it/s]"
      ]
     },
     "metadata": {},
     "output_type": "display_data"
    },
    {
     "data": {
      "application/vnd.jupyter.widget-view+json": {
       "model_id": "676166ea58b0437b98c495979f3fdb3b",
       "version_major": 2,
       "version_minor": 0
      },
      "text/plain": [
       "Batches:   0%|          | 0/1 [00:00<?, ?it/s]"
      ]
     },
     "metadata": {},
     "output_type": "display_data"
    },
    {
     "name": "stderr",
     "output_type": "stream",
     "text": [
      "2025-06-30 18:21:17,078 - INFO - Saved 7 chunks for topic 32 to Pinecone\n",
      "Summarizing topics:  58%|█████▊    | 26/45 [04:44<03:30, 11.07s/it]2025-06-30 18:21:17,079 - INFO - Generating summary for topic 33 with 6 documents\n",
      "2025-06-30 18:21:17,080 - INFO - Combined text length: 20170 characters\n",
      "2025-06-30 18:21:26,051 - INFO - HTTP Request: POST https://api.openai.com/v1/chat/completions \"HTTP/1.1 200 OK\"\n",
      "2025-06-30 18:21:26,060 - INFO - Successfully generated summary for topic 33: 2626 characters\n",
      "2025-06-30 18:21:26,668 - INFO - Saved topic 33 to S3: rizzbot/Summaries/run_1/topic_33.json\n"
     ]
    },
    {
     "data": {
      "application/vnd.jupyter.widget-view+json": {
       "model_id": "194a54b0e52a47ebbc6800b56dd89a91",
       "version_major": 2,
       "version_minor": 0
      },
      "text/plain": [
       "Batches:   0%|          | 0/1 [00:00<?, ?it/s]"
      ]
     },
     "metadata": {},
     "output_type": "display_data"
    },
    {
     "data": {
      "application/vnd.jupyter.widget-view+json": {
       "model_id": "b6ffbb74220d46fab8ca60806803dc16",
       "version_major": 2,
       "version_minor": 0
      },
      "text/plain": [
       "Batches:   0%|          | 0/1 [00:00<?, ?it/s]"
      ]
     },
     "metadata": {},
     "output_type": "display_data"
    },
    {
     "data": {
      "application/vnd.jupyter.widget-view+json": {
       "model_id": "1d51b695fc794447b80d6b287d426fd5",
       "version_major": 2,
       "version_minor": 0
      },
      "text/plain": [
       "Batches:   0%|          | 0/1 [00:00<?, ?it/s]"
      ]
     },
     "metadata": {},
     "output_type": "display_data"
    },
    {
     "data": {
      "application/vnd.jupyter.widget-view+json": {
       "model_id": "b7e143c079d94686bd5d5b5431f26e81",
       "version_major": 2,
       "version_minor": 0
      },
      "text/plain": [
       "Batches:   0%|          | 0/1 [00:00<?, ?it/s]"
      ]
     },
     "metadata": {},
     "output_type": "display_data"
    },
    {
     "data": {
      "application/vnd.jupyter.widget-view+json": {
       "model_id": "117bb115f8f04c388d7c722290e65e12",
       "version_major": 2,
       "version_minor": 0
      },
      "text/plain": [
       "Batches:   0%|          | 0/1 [00:00<?, ?it/s]"
      ]
     },
     "metadata": {},
     "output_type": "display_data"
    },
    {
     "data": {
      "application/vnd.jupyter.widget-view+json": {
       "model_id": "eb406748b4e744a49d1fb892ff1971ab",
       "version_major": 2,
       "version_minor": 0
      },
      "text/plain": [
       "Batches:   0%|          | 0/1 [00:00<?, ?it/s]"
      ]
     },
     "metadata": {},
     "output_type": "display_data"
    },
    {
     "name": "stderr",
     "output_type": "stream",
     "text": [
      "2025-06-30 18:21:26,993 - INFO - Saved 6 chunks for topic 33 to Pinecone\n",
      "Summarizing topics:  60%|██████    | 27/45 [04:54<03:13, 10.72s/it]2025-06-30 18:21:26,995 - INFO - Generating summary for topic 34 with 6 documents\n",
      "2025-06-30 18:21:26,996 - INFO - Combined text length: 22242 characters\n",
      "2025-06-30 18:21:34,782 - INFO - HTTP Request: POST https://api.openai.com/v1/chat/completions \"HTTP/1.1 200 OK\"\n",
      "2025-06-30 18:21:34,785 - INFO - Successfully generated summary for topic 34: 2720 characters\n",
      "2025-06-30 18:21:35,334 - INFO - Saved topic 34 to S3: rizzbot/Summaries/run_1/topic_34.json\n"
     ]
    },
    {
     "data": {
      "application/vnd.jupyter.widget-view+json": {
       "model_id": "ddba8842554c43bd97831b8250b73fb2",
       "version_major": 2,
       "version_minor": 0
      },
      "text/plain": [
       "Batches:   0%|          | 0/1 [00:00<?, ?it/s]"
      ]
     },
     "metadata": {},
     "output_type": "display_data"
    },
    {
     "data": {
      "application/vnd.jupyter.widget-view+json": {
       "model_id": "7738cbe480764faf8194587a64610500",
       "version_major": 2,
       "version_minor": 0
      },
      "text/plain": [
       "Batches:   0%|          | 0/1 [00:00<?, ?it/s]"
      ]
     },
     "metadata": {},
     "output_type": "display_data"
    },
    {
     "data": {
      "application/vnd.jupyter.widget-view+json": {
       "model_id": "03fcd919463d451a89e50b75b7022760",
       "version_major": 2,
       "version_minor": 0
      },
      "text/plain": [
       "Batches:   0%|          | 0/1 [00:00<?, ?it/s]"
      ]
     },
     "metadata": {},
     "output_type": "display_data"
    },
    {
     "data": {
      "application/vnd.jupyter.widget-view+json": {
       "model_id": "64d967ec82d143aab8838e14211fddc7",
       "version_major": 2,
       "version_minor": 0
      },
      "text/plain": [
       "Batches:   0%|          | 0/1 [00:00<?, ?it/s]"
      ]
     },
     "metadata": {},
     "output_type": "display_data"
    },
    {
     "data": {
      "application/vnd.jupyter.widget-view+json": {
       "model_id": "3d213361939647d8af23c92181dce3da",
       "version_major": 2,
       "version_minor": 0
      },
      "text/plain": [
       "Batches:   0%|          | 0/1 [00:00<?, ?it/s]"
      ]
     },
     "metadata": {},
     "output_type": "display_data"
    },
    {
     "data": {
      "application/vnd.jupyter.widget-view+json": {
       "model_id": "35ad96683b9a4763b52f3c404c3a0527",
       "version_major": 2,
       "version_minor": 0
      },
      "text/plain": [
       "Batches:   0%|          | 0/1 [00:00<?, ?it/s]"
      ]
     },
     "metadata": {},
     "output_type": "display_data"
    },
    {
     "name": "stderr",
     "output_type": "stream",
     "text": [
      "2025-06-30 18:21:35,613 - INFO - Saved 6 chunks for topic 34 to Pinecone\n",
      "Summarizing topics:  62%|██████▏   | 28/45 [05:02<02:51, 10.09s/it]2025-06-30 18:21:35,616 - INFO - Generating summary for topic 35 with 5 documents\n",
      "2025-06-30 18:21:35,617 - INFO - Combined text length: 16334 characters\n",
      "2025-06-30 18:21:43,269 - INFO - HTTP Request: POST https://api.openai.com/v1/chat/completions \"HTTP/1.1 200 OK\"\n",
      "2025-06-30 18:21:43,271 - INFO - Successfully generated summary for topic 35: 2753 characters\n",
      "2025-06-30 18:21:43,818 - INFO - Saved topic 35 to S3: rizzbot/Summaries/run_1/topic_35.json\n"
     ]
    },
    {
     "data": {
      "application/vnd.jupyter.widget-view+json": {
       "model_id": "ae06dc32c59649bf929aff9ccf2da99b",
       "version_major": 2,
       "version_minor": 0
      },
      "text/plain": [
       "Batches:   0%|          | 0/1 [00:00<?, ?it/s]"
      ]
     },
     "metadata": {},
     "output_type": "display_data"
    },
    {
     "data": {
      "application/vnd.jupyter.widget-view+json": {
       "model_id": "0f2113d0380b40b78a5268bea3280bd6",
       "version_major": 2,
       "version_minor": 0
      },
      "text/plain": [
       "Batches:   0%|          | 0/1 [00:00<?, ?it/s]"
      ]
     },
     "metadata": {},
     "output_type": "display_data"
    },
    {
     "data": {
      "application/vnd.jupyter.widget-view+json": {
       "model_id": "3cdd913f134340e68badd9082d6b3db2",
       "version_major": 2,
       "version_minor": 0
      },
      "text/plain": [
       "Batches:   0%|          | 0/1 [00:00<?, ?it/s]"
      ]
     },
     "metadata": {},
     "output_type": "display_data"
    },
    {
     "data": {
      "application/vnd.jupyter.widget-view+json": {
       "model_id": "2ac70c9c717a4a01b9bd452cc3460afa",
       "version_major": 2,
       "version_minor": 0
      },
      "text/plain": [
       "Batches:   0%|          | 0/1 [00:00<?, ?it/s]"
      ]
     },
     "metadata": {},
     "output_type": "display_data"
    },
    {
     "data": {
      "application/vnd.jupyter.widget-view+json": {
       "model_id": "6cbec1bf75e7425292bc8fe9727c17e8",
       "version_major": 2,
       "version_minor": 0
      },
      "text/plain": [
       "Batches:   0%|          | 0/1 [00:00<?, ?it/s]"
      ]
     },
     "metadata": {},
     "output_type": "display_data"
    },
    {
     "data": {
      "application/vnd.jupyter.widget-view+json": {
       "model_id": "d350c4418b124660adcc1212b1d08d0c",
       "version_major": 2,
       "version_minor": 0
      },
      "text/plain": [
       "Batches:   0%|          | 0/1 [00:00<?, ?it/s]"
      ]
     },
     "metadata": {},
     "output_type": "display_data"
    },
    {
     "name": "stderr",
     "output_type": "stream",
     "text": [
      "2025-06-30 18:21:44,116 - INFO - Saved 6 chunks for topic 35 to Pinecone\n",
      "Summarizing topics:  64%|██████▍   | 29/45 [05:11<02:33,  9.62s/it]2025-06-30 18:21:44,118 - INFO - Generating summary for topic 36 with 5 documents\n",
      "2025-06-30 18:21:44,119 - INFO - Combined text length: 18792 characters\n",
      "2025-06-30 18:21:56,570 - INFO - HTTP Request: POST https://api.openai.com/v1/chat/completions \"HTTP/1.1 200 OK\"\n",
      "2025-06-30 18:21:56,579 - INFO - Successfully generated summary for topic 36: 3101 characters\n",
      "2025-06-30 18:21:57,089 - INFO - Saved topic 36 to S3: rizzbot/Summaries/run_1/topic_36.json\n"
     ]
    },
    {
     "data": {
      "application/vnd.jupyter.widget-view+json": {
       "model_id": "dc91698d12f14f5a8442042c85ada11f",
       "version_major": 2,
       "version_minor": 0
      },
      "text/plain": [
       "Batches:   0%|          | 0/1 [00:00<?, ?it/s]"
      ]
     },
     "metadata": {},
     "output_type": "display_data"
    },
    {
     "data": {
      "application/vnd.jupyter.widget-view+json": {
       "model_id": "5bf670721cea42aaa1cbaf6d5a0c1559",
       "version_major": 2,
       "version_minor": 0
      },
      "text/plain": [
       "Batches:   0%|          | 0/1 [00:00<?, ?it/s]"
      ]
     },
     "metadata": {},
     "output_type": "display_data"
    },
    {
     "data": {
      "application/vnd.jupyter.widget-view+json": {
       "model_id": "ddb7cc1201d84b88a671ce6c259a4175",
       "version_major": 2,
       "version_minor": 0
      },
      "text/plain": [
       "Batches:   0%|          | 0/1 [00:00<?, ?it/s]"
      ]
     },
     "metadata": {},
     "output_type": "display_data"
    },
    {
     "data": {
      "application/vnd.jupyter.widget-view+json": {
       "model_id": "694d4d1e983243e1972327d23f06db52",
       "version_major": 2,
       "version_minor": 0
      },
      "text/plain": [
       "Batches:   0%|          | 0/1 [00:00<?, ?it/s]"
      ]
     },
     "metadata": {},
     "output_type": "display_data"
    },
    {
     "data": {
      "application/vnd.jupyter.widget-view+json": {
       "model_id": "c09fd1ddbda244fe9c8c31c4ed07cdd7",
       "version_major": 2,
       "version_minor": 0
      },
      "text/plain": [
       "Batches:   0%|          | 0/1 [00:00<?, ?it/s]"
      ]
     },
     "metadata": {},
     "output_type": "display_data"
    },
    {
     "data": {
      "application/vnd.jupyter.widget-view+json": {
       "model_id": "d64f10aae5b349a2af5425f197abdf9a",
       "version_major": 2,
       "version_minor": 0
      },
      "text/plain": [
       "Batches:   0%|          | 0/1 [00:00<?, ?it/s]"
      ]
     },
     "metadata": {},
     "output_type": "display_data"
    },
    {
     "data": {
      "application/vnd.jupyter.widget-view+json": {
       "model_id": "50718a924c414453b508bef1e10b1cb2",
       "version_major": 2,
       "version_minor": 0
      },
      "text/plain": [
       "Batches:   0%|          | 0/1 [00:00<?, ?it/s]"
      ]
     },
     "metadata": {},
     "output_type": "display_data"
    },
    {
     "name": "stderr",
     "output_type": "stream",
     "text": [
      "2025-06-30 18:21:57,384 - INFO - Saved 7 chunks for topic 36 to Pinecone\n",
      "Summarizing topics:  67%|██████▋   | 30/45 [05:24<02:40, 10.71s/it]2025-06-30 18:21:57,386 - INFO - Generating summary for topic 37 with 5 documents\n",
      "2025-06-30 18:21:57,386 - INFO - Combined text length: 18866 characters\n",
      "2025-06-30 18:22:06,813 - INFO - HTTP Request: POST https://api.openai.com/v1/chat/completions \"HTTP/1.1 200 OK\"\n",
      "2025-06-30 18:22:06,820 - INFO - Successfully generated summary for topic 37: 3241 characters\n",
      "2025-06-30 18:22:07,388 - INFO - Saved topic 37 to S3: rizzbot/Summaries/run_1/topic_37.json\n"
     ]
    },
    {
     "data": {
      "application/vnd.jupyter.widget-view+json": {
       "model_id": "a413b97ed7b0496f9b6ef7fe13c36b14",
       "version_major": 2,
       "version_minor": 0
      },
      "text/plain": [
       "Batches:   0%|          | 0/1 [00:00<?, ?it/s]"
      ]
     },
     "metadata": {},
     "output_type": "display_data"
    },
    {
     "data": {
      "application/vnd.jupyter.widget-view+json": {
       "model_id": "8691d2a453cb4a1aa905f541f1be6a03",
       "version_major": 2,
       "version_minor": 0
      },
      "text/plain": [
       "Batches:   0%|          | 0/1 [00:00<?, ?it/s]"
      ]
     },
     "metadata": {},
     "output_type": "display_data"
    },
    {
     "data": {
      "application/vnd.jupyter.widget-view+json": {
       "model_id": "6162a587d1fd4f7a90f7ff8b0f17cd83",
       "version_major": 2,
       "version_minor": 0
      },
      "text/plain": [
       "Batches:   0%|          | 0/1 [00:00<?, ?it/s]"
      ]
     },
     "metadata": {},
     "output_type": "display_data"
    },
    {
     "data": {
      "application/vnd.jupyter.widget-view+json": {
       "model_id": "f7bd6fa6856546f9add4d8246bebed76",
       "version_major": 2,
       "version_minor": 0
      },
      "text/plain": [
       "Batches:   0%|          | 0/1 [00:00<?, ?it/s]"
      ]
     },
     "metadata": {},
     "output_type": "display_data"
    },
    {
     "data": {
      "application/vnd.jupyter.widget-view+json": {
       "model_id": "4622058d65e04892b4d9fa2eadc957d9",
       "version_major": 2,
       "version_minor": 0
      },
      "text/plain": [
       "Batches:   0%|          | 0/1 [00:00<?, ?it/s]"
      ]
     },
     "metadata": {},
     "output_type": "display_data"
    },
    {
     "data": {
      "application/vnd.jupyter.widget-view+json": {
       "model_id": "8fa2e913c6b84823986074659963ce4f",
       "version_major": 2,
       "version_minor": 0
      },
      "text/plain": [
       "Batches:   0%|          | 0/1 [00:00<?, ?it/s]"
      ]
     },
     "metadata": {},
     "output_type": "display_data"
    },
    {
     "data": {
      "application/vnd.jupyter.widget-view+json": {
       "model_id": "055cc79c454c410ca70f08781b4981a3",
       "version_major": 2,
       "version_minor": 0
      },
      "text/plain": [
       "Batches:   0%|          | 0/1 [00:00<?, ?it/s]"
      ]
     },
     "metadata": {},
     "output_type": "display_data"
    },
    {
     "name": "stderr",
     "output_type": "stream",
     "text": [
      "2025-06-30 18:22:08,149 - INFO - Saved 7 chunks for topic 37 to Pinecone\n",
      "Summarizing topics:  69%|██████▉   | 31/45 [05:35<02:30, 10.73s/it]2025-06-30 18:22:08,151 - INFO - Generating summary for topic 38 with 5 documents\n",
      "2025-06-30 18:22:08,153 - INFO - Combined text length: 1337 characters\n",
      "2025-06-30 18:22:12,521 - INFO - HTTP Request: POST https://api.openai.com/v1/chat/completions \"HTTP/1.1 200 OK\"\n",
      "2025-06-30 18:22:12,541 - INFO - Successfully generated summary for topic 38: 1405 characters\n",
      "2025-06-30 18:22:12,641 - INFO - Saved topic 38 to S3: rizzbot/Summaries/run_1/topic_38.json\n"
     ]
    },
    {
     "data": {
      "application/vnd.jupyter.widget-view+json": {
       "model_id": "4a155e3d73ab447cab3ea25185a7fdac",
       "version_major": 2,
       "version_minor": 0
      },
      "text/plain": [
       "Batches:   0%|          | 0/1 [00:00<?, ?it/s]"
      ]
     },
     "metadata": {},
     "output_type": "display_data"
    },
    {
     "data": {
      "application/vnd.jupyter.widget-view+json": {
       "model_id": "3d0cc14d0f764cfdb90186f94ec48b4e",
       "version_major": 2,
       "version_minor": 0
      },
      "text/plain": [
       "Batches:   0%|          | 0/1 [00:00<?, ?it/s]"
      ]
     },
     "metadata": {},
     "output_type": "display_data"
    },
    {
     "data": {
      "application/vnd.jupyter.widget-view+json": {
       "model_id": "aee17e4ccfe349e6ae9d33dbb690d4a0",
       "version_major": 2,
       "version_minor": 0
      },
      "text/plain": [
       "Batches:   0%|          | 0/1 [00:00<?, ?it/s]"
      ]
     },
     "metadata": {},
     "output_type": "display_data"
    },
    {
     "name": "stderr",
     "output_type": "stream",
     "text": [
      "2025-06-30 18:22:12,876 - INFO - Saved 3 chunks for topic 38 to Pinecone\n",
      "Summarizing topics:  71%|███████   | 32/45 [05:39<01:56,  8.93s/it]2025-06-30 18:22:12,878 - INFO - Generating summary for topic 40 with 5 documents\n",
      "2025-06-30 18:22:12,879 - INFO - Combined text length: 9337 characters\n",
      "2025-06-30 18:22:21,830 - INFO - HTTP Request: POST https://api.openai.com/v1/chat/completions \"HTTP/1.1 200 OK\"\n",
      "2025-06-30 18:22:21,833 - INFO - Successfully generated summary for topic 40: 2236 characters\n",
      "2025-06-30 18:22:22,402 - INFO - Saved topic 40 to S3: rizzbot/Summaries/run_1/topic_40.json\n"
     ]
    },
    {
     "data": {
      "application/vnd.jupyter.widget-view+json": {
       "model_id": "826d0cad3e9e40268dbde5d9fe0970be",
       "version_major": 2,
       "version_minor": 0
      },
      "text/plain": [
       "Batches:   0%|          | 0/1 [00:00<?, ?it/s]"
      ]
     },
     "metadata": {},
     "output_type": "display_data"
    },
    {
     "data": {
      "application/vnd.jupyter.widget-view+json": {
       "model_id": "c143ac5f7d11441f9c8b5c5f129a7b4c",
       "version_major": 2,
       "version_minor": 0
      },
      "text/plain": [
       "Batches:   0%|          | 0/1 [00:00<?, ?it/s]"
      ]
     },
     "metadata": {},
     "output_type": "display_data"
    },
    {
     "data": {
      "application/vnd.jupyter.widget-view+json": {
       "model_id": "44b8d6928b2049848783df72085cc53f",
       "version_major": 2,
       "version_minor": 0
      },
      "text/plain": [
       "Batches:   0%|          | 0/1 [00:00<?, ?it/s]"
      ]
     },
     "metadata": {},
     "output_type": "display_data"
    },
    {
     "data": {
      "application/vnd.jupyter.widget-view+json": {
       "model_id": "4cf64fc2809542988c3ed7d96503f591",
       "version_major": 2,
       "version_minor": 0
      },
      "text/plain": [
       "Batches:   0%|          | 0/1 [00:00<?, ?it/s]"
      ]
     },
     "metadata": {},
     "output_type": "display_data"
    },
    {
     "data": {
      "application/vnd.jupyter.widget-view+json": {
       "model_id": "7643af41d47348a39a0076875069b281",
       "version_major": 2,
       "version_minor": 0
      },
      "text/plain": [
       "Batches:   0%|          | 0/1 [00:00<?, ?it/s]"
      ]
     },
     "metadata": {},
     "output_type": "display_data"
    },
    {
     "name": "stderr",
     "output_type": "stream",
     "text": [
      "2025-06-30 18:22:22,782 - INFO - Saved 5 chunks for topic 40 to Pinecone\n",
      "Summarizing topics:  73%|███████▎  | 33/45 [05:49<01:50,  9.22s/it]2025-06-30 18:22:22,786 - INFO - Generating summary for topic 41 with 5 documents\n",
      "2025-06-30 18:22:22,788 - INFO - Combined text length: 18213 characters\n",
      "2025-06-30 18:22:30,367 - INFO - HTTP Request: POST https://api.openai.com/v1/chat/completions \"HTTP/1.1 200 OK\"\n",
      "2025-06-30 18:22:30,370 - INFO - Successfully generated summary for topic 41: 3324 characters\n",
      "2025-06-30 18:22:30,926 - INFO - Saved topic 41 to S3: rizzbot/Summaries/run_1/topic_41.json\n"
     ]
    },
    {
     "data": {
      "application/vnd.jupyter.widget-view+json": {
       "model_id": "cea6ac9f03f54a1baa78551561f99c12",
       "version_major": 2,
       "version_minor": 0
      },
      "text/plain": [
       "Batches:   0%|          | 0/1 [00:00<?, ?it/s]"
      ]
     },
     "metadata": {},
     "output_type": "display_data"
    },
    {
     "data": {
      "application/vnd.jupyter.widget-view+json": {
       "model_id": "d4471eb4cffc4e7dac037debce34b52a",
       "version_major": 2,
       "version_minor": 0
      },
      "text/plain": [
       "Batches:   0%|          | 0/1 [00:00<?, ?it/s]"
      ]
     },
     "metadata": {},
     "output_type": "display_data"
    },
    {
     "data": {
      "application/vnd.jupyter.widget-view+json": {
       "model_id": "4c32b32be206463a8bab4bcd05b1413a",
       "version_major": 2,
       "version_minor": 0
      },
      "text/plain": [
       "Batches:   0%|          | 0/1 [00:00<?, ?it/s]"
      ]
     },
     "metadata": {},
     "output_type": "display_data"
    },
    {
     "data": {
      "application/vnd.jupyter.widget-view+json": {
       "model_id": "de700a99df574a81aab0d77fe2586e70",
       "version_major": 2,
       "version_minor": 0
      },
      "text/plain": [
       "Batches:   0%|          | 0/1 [00:00<?, ?it/s]"
      ]
     },
     "metadata": {},
     "output_type": "display_data"
    },
    {
     "data": {
      "application/vnd.jupyter.widget-view+json": {
       "model_id": "e162bfebb94441aeabafc16e3fd3fcd4",
       "version_major": 2,
       "version_minor": 0
      },
      "text/plain": [
       "Batches:   0%|          | 0/1 [00:00<?, ?it/s]"
      ]
     },
     "metadata": {},
     "output_type": "display_data"
    },
    {
     "data": {
      "application/vnd.jupyter.widget-view+json": {
       "model_id": "d0aa93a5db2043bc9a3ff45a2258d2c1",
       "version_major": 2,
       "version_minor": 0
      },
      "text/plain": [
       "Batches:   0%|          | 0/1 [00:00<?, ?it/s]"
      ]
     },
     "metadata": {},
     "output_type": "display_data"
    },
    {
     "data": {
      "application/vnd.jupyter.widget-view+json": {
       "model_id": "5cdc22b3da38422d8451720259a93d8a",
       "version_major": 2,
       "version_minor": 0
      },
      "text/plain": [
       "Batches:   0%|          | 0/1 [00:00<?, ?it/s]"
      ]
     },
     "metadata": {},
     "output_type": "display_data"
    },
    {
     "name": "stderr",
     "output_type": "stream",
     "text": [
      "2025-06-30 18:22:31,258 - INFO - Saved 7 chunks for topic 41 to Pinecone\n",
      "Summarizing topics:  76%|███████▌  | 34/45 [05:58<01:38,  9.00s/it]2025-06-30 18:22:31,260 - INFO - Generating summary for topic 42 with 5 documents\n",
      "2025-06-30 18:22:31,261 - INFO - Combined text length: 17199 characters\n",
      "2025-06-30 18:22:37,846 - INFO - HTTP Request: POST https://api.openai.com/v1/chat/completions \"HTTP/1.1 200 OK\"\n",
      "2025-06-30 18:22:37,850 - INFO - Successfully generated summary for topic 42: 3083 characters\n",
      "2025-06-30 18:22:38,469 - INFO - Saved topic 42 to S3: rizzbot/Summaries/run_1/topic_42.json\n"
     ]
    },
    {
     "data": {
      "application/vnd.jupyter.widget-view+json": {
       "model_id": "a760d4336cce467983a339b6aa45c28b",
       "version_major": 2,
       "version_minor": 0
      },
      "text/plain": [
       "Batches:   0%|          | 0/1 [00:00<?, ?it/s]"
      ]
     },
     "metadata": {},
     "output_type": "display_data"
    },
    {
     "data": {
      "application/vnd.jupyter.widget-view+json": {
       "model_id": "215f181e50d1436ab8412784b6d56d65",
       "version_major": 2,
       "version_minor": 0
      },
      "text/plain": [
       "Batches:   0%|          | 0/1 [00:00<?, ?it/s]"
      ]
     },
     "metadata": {},
     "output_type": "display_data"
    },
    {
     "data": {
      "application/vnd.jupyter.widget-view+json": {
       "model_id": "9ab13eee2f34426e8959215360c9b35a",
       "version_major": 2,
       "version_minor": 0
      },
      "text/plain": [
       "Batches:   0%|          | 0/1 [00:00<?, ?it/s]"
      ]
     },
     "metadata": {},
     "output_type": "display_data"
    },
    {
     "data": {
      "application/vnd.jupyter.widget-view+json": {
       "model_id": "b890dfa5610141edb18aa355f30e36e7",
       "version_major": 2,
       "version_minor": 0
      },
      "text/plain": [
       "Batches:   0%|          | 0/1 [00:00<?, ?it/s]"
      ]
     },
     "metadata": {},
     "output_type": "display_data"
    },
    {
     "data": {
      "application/vnd.jupyter.widget-view+json": {
       "model_id": "68475b0866e04b49af6b657d2e90babd",
       "version_major": 2,
       "version_minor": 0
      },
      "text/plain": [
       "Batches:   0%|          | 0/1 [00:00<?, ?it/s]"
      ]
     },
     "metadata": {},
     "output_type": "display_data"
    },
    {
     "data": {
      "application/vnd.jupyter.widget-view+json": {
       "model_id": "41e6acf25c454559bbae3f19c217bf94",
       "version_major": 2,
       "version_minor": 0
      },
      "text/plain": [
       "Batches:   0%|          | 0/1 [00:00<?, ?it/s]"
      ]
     },
     "metadata": {},
     "output_type": "display_data"
    },
    {
     "data": {
      "application/vnd.jupyter.widget-view+json": {
       "model_id": "f11c4df2fec3426a98e0f1a786e365c6",
       "version_major": 2,
       "version_minor": 0
      },
      "text/plain": [
       "Batches:   0%|          | 0/1 [00:00<?, ?it/s]"
      ]
     },
     "metadata": {},
     "output_type": "display_data"
    },
    {
     "name": "stderr",
     "output_type": "stream",
     "text": [
      "2025-06-30 18:22:38,802 - INFO - Saved 7 chunks for topic 42 to Pinecone\n",
      "Summarizing topics:  78%|███████▊  | 35/45 [06:05<01:25,  8.56s/it]2025-06-30 18:22:38,804 - INFO - Generating summary for topic 43 with 4 documents\n",
      "2025-06-30 18:22:38,805 - INFO - Combined text length: 15135 characters\n",
      "2025-06-30 18:22:51,960 - INFO - HTTP Request: POST https://api.openai.com/v1/chat/completions \"HTTP/1.1 200 OK\"\n",
      "2025-06-30 18:22:51,962 - INFO - Successfully generated summary for topic 43: 3242 characters\n",
      "2025-06-30 18:22:52,512 - INFO - Saved topic 43 to S3: rizzbot/Summaries/run_1/topic_43.json\n"
     ]
    },
    {
     "data": {
      "application/vnd.jupyter.widget-view+json": {
       "model_id": "c5930ce522d84de08e565ad384a1388a",
       "version_major": 2,
       "version_minor": 0
      },
      "text/plain": [
       "Batches:   0%|          | 0/1 [00:00<?, ?it/s]"
      ]
     },
     "metadata": {},
     "output_type": "display_data"
    },
    {
     "data": {
      "application/vnd.jupyter.widget-view+json": {
       "model_id": "8e2eea22a9cf430bb16b2018063a64d6",
       "version_major": 2,
       "version_minor": 0
      },
      "text/plain": [
       "Batches:   0%|          | 0/1 [00:00<?, ?it/s]"
      ]
     },
     "metadata": {},
     "output_type": "display_data"
    },
    {
     "data": {
      "application/vnd.jupyter.widget-view+json": {
       "model_id": "f53985d9d17b4fa899ec69a40062ded0",
       "version_major": 2,
       "version_minor": 0
      },
      "text/plain": [
       "Batches:   0%|          | 0/1 [00:00<?, ?it/s]"
      ]
     },
     "metadata": {},
     "output_type": "display_data"
    },
    {
     "data": {
      "application/vnd.jupyter.widget-view+json": {
       "model_id": "ae80fc2764f24e8180adc250b95d3bdf",
       "version_major": 2,
       "version_minor": 0
      },
      "text/plain": [
       "Batches:   0%|          | 0/1 [00:00<?, ?it/s]"
      ]
     },
     "metadata": {},
     "output_type": "display_data"
    },
    {
     "data": {
      "application/vnd.jupyter.widget-view+json": {
       "model_id": "2ac6171b08e44698b25aa3079f0db390",
       "version_major": 2,
       "version_minor": 0
      },
      "text/plain": [
       "Batches:   0%|          | 0/1 [00:00<?, ?it/s]"
      ]
     },
     "metadata": {},
     "output_type": "display_data"
    },
    {
     "data": {
      "application/vnd.jupyter.widget-view+json": {
       "model_id": "44f806a5625e4c378c0abc3e0fb3ca4c",
       "version_major": 2,
       "version_minor": 0
      },
      "text/plain": [
       "Batches:   0%|          | 0/1 [00:00<?, ?it/s]"
      ]
     },
     "metadata": {},
     "output_type": "display_data"
    },
    {
     "data": {
      "application/vnd.jupyter.widget-view+json": {
       "model_id": "3ae62c442ee94c7c8de2df66b2f7cae0",
       "version_major": 2,
       "version_minor": 0
      },
      "text/plain": [
       "Batches:   0%|          | 0/1 [00:00<?, ?it/s]"
      ]
     },
     "metadata": {},
     "output_type": "display_data"
    },
    {
     "name": "stderr",
     "output_type": "stream",
     "text": [
      "2025-06-30 18:22:52,818 - INFO - Saved 7 chunks for topic 43 to Pinecone\n",
      "Summarizing topics:  80%|████████  | 36/45 [06:19<01:31, 10.20s/it]2025-06-30 18:22:52,820 - INFO - Generating summary for topic 44 with 4 documents\n",
      "2025-06-30 18:22:52,822 - INFO - Combined text length: 14060 characters\n",
      "2025-06-30 18:23:01,445 - INFO - HTTP Request: POST https://api.openai.com/v1/chat/completions \"HTTP/1.1 200 OK\"\n",
      "2025-06-30 18:23:01,450 - INFO - Successfully generated summary for topic 44: 3082 characters\n",
      "2025-06-30 18:23:01,999 - INFO - Saved topic 44 to S3: rizzbot/Summaries/run_1/topic_44.json\n"
     ]
    },
    {
     "data": {
      "application/vnd.jupyter.widget-view+json": {
       "model_id": "a331071262e0470f8237b14dbfe488b0",
       "version_major": 2,
       "version_minor": 0
      },
      "text/plain": [
       "Batches:   0%|          | 0/1 [00:00<?, ?it/s]"
      ]
     },
     "metadata": {},
     "output_type": "display_data"
    },
    {
     "data": {
      "application/vnd.jupyter.widget-view+json": {
       "model_id": "c1a53635a36044fa8b9ac4c88480f488",
       "version_major": 2,
       "version_minor": 0
      },
      "text/plain": [
       "Batches:   0%|          | 0/1 [00:00<?, ?it/s]"
      ]
     },
     "metadata": {},
     "output_type": "display_data"
    },
    {
     "data": {
      "application/vnd.jupyter.widget-view+json": {
       "model_id": "e2d2333c0358449badd76731ade19ea3",
       "version_major": 2,
       "version_minor": 0
      },
      "text/plain": [
       "Batches:   0%|          | 0/1 [00:00<?, ?it/s]"
      ]
     },
     "metadata": {},
     "output_type": "display_data"
    },
    {
     "data": {
      "application/vnd.jupyter.widget-view+json": {
       "model_id": "1debac27500347b1abd5fc38a14ff0b4",
       "version_major": 2,
       "version_minor": 0
      },
      "text/plain": [
       "Batches:   0%|          | 0/1 [00:00<?, ?it/s]"
      ]
     },
     "metadata": {},
     "output_type": "display_data"
    },
    {
     "data": {
      "application/vnd.jupyter.widget-view+json": {
       "model_id": "e3adf44cc5db4d318fbfb521ad3561b9",
       "version_major": 2,
       "version_minor": 0
      },
      "text/plain": [
       "Batches:   0%|          | 0/1 [00:00<?, ?it/s]"
      ]
     },
     "metadata": {},
     "output_type": "display_data"
    },
    {
     "data": {
      "application/vnd.jupyter.widget-view+json": {
       "model_id": "f6e7af044c314ca9b59758d5ba8f4c70",
       "version_major": 2,
       "version_minor": 0
      },
      "text/plain": [
       "Batches:   0%|          | 0/1 [00:00<?, ?it/s]"
      ]
     },
     "metadata": {},
     "output_type": "display_data"
    },
    {
     "data": {
      "application/vnd.jupyter.widget-view+json": {
       "model_id": "bb50c6c3c2024182bcea5891fe5fef23",
       "version_major": 2,
       "version_minor": 0
      },
      "text/plain": [
       "Batches:   0%|          | 0/1 [00:00<?, ?it/s]"
      ]
     },
     "metadata": {},
     "output_type": "display_data"
    },
    {
     "name": "stderr",
     "output_type": "stream",
     "text": [
      "2025-06-30 18:23:02,389 - INFO - Saved 7 chunks for topic 44 to Pinecone\n",
      "Summarizing topics:  82%|████████▏ | 37/45 [06:29<01:20, 10.01s/it]2025-06-30 18:23:02,391 - INFO - Generating summary for topic 45 with 4 documents\n",
      "2025-06-30 18:23:02,393 - INFO - Combined text length: 14340 characters\n",
      "2025-06-30 18:23:11,286 - INFO - HTTP Request: POST https://api.openai.com/v1/chat/completions \"HTTP/1.1 200 OK\"\n",
      "2025-06-30 18:23:11,290 - INFO - Successfully generated summary for topic 45: 2837 characters\n",
      "2025-06-30 18:23:11,813 - INFO - Saved topic 45 to S3: rizzbot/Summaries/run_1/topic_45.json\n"
     ]
    },
    {
     "data": {
      "application/vnd.jupyter.widget-view+json": {
       "model_id": "07c7c52243774a63be9a9528b8533b12",
       "version_major": 2,
       "version_minor": 0
      },
      "text/plain": [
       "Batches:   0%|          | 0/1 [00:00<?, ?it/s]"
      ]
     },
     "metadata": {},
     "output_type": "display_data"
    },
    {
     "data": {
      "application/vnd.jupyter.widget-view+json": {
       "model_id": "4e8953b917904b6994ae01f8a9dda1e1",
       "version_major": 2,
       "version_minor": 0
      },
      "text/plain": [
       "Batches:   0%|          | 0/1 [00:00<?, ?it/s]"
      ]
     },
     "metadata": {},
     "output_type": "display_data"
    },
    {
     "data": {
      "application/vnd.jupyter.widget-view+json": {
       "model_id": "e6eeaf2fed3d4bd8b6d03abd17929d78",
       "version_major": 2,
       "version_minor": 0
      },
      "text/plain": [
       "Batches:   0%|          | 0/1 [00:00<?, ?it/s]"
      ]
     },
     "metadata": {},
     "output_type": "display_data"
    },
    {
     "data": {
      "application/vnd.jupyter.widget-view+json": {
       "model_id": "c994085561d84a928a0d79e57f239f48",
       "version_major": 2,
       "version_minor": 0
      },
      "text/plain": [
       "Batches:   0%|          | 0/1 [00:00<?, ?it/s]"
      ]
     },
     "metadata": {},
     "output_type": "display_data"
    },
    {
     "data": {
      "application/vnd.jupyter.widget-view+json": {
       "model_id": "a6b5b432d48c4c27994a6a0bf5bf02f5",
       "version_major": 2,
       "version_minor": 0
      },
      "text/plain": [
       "Batches:   0%|          | 0/1 [00:00<?, ?it/s]"
      ]
     },
     "metadata": {},
     "output_type": "display_data"
    },
    {
     "data": {
      "application/vnd.jupyter.widget-view+json": {
       "model_id": "2b38322d3ca3419daae1b370a29273e6",
       "version_major": 2,
       "version_minor": 0
      },
      "text/plain": [
       "Batches:   0%|          | 0/1 [00:00<?, ?it/s]"
      ]
     },
     "metadata": {},
     "output_type": "display_data"
    },
    {
     "name": "stderr",
     "output_type": "stream",
     "text": [
      "2025-06-30 18:23:12,182 - INFO - Saved 6 chunks for topic 45 to Pinecone\n",
      "Summarizing topics:  84%|████████▍ | 38/45 [06:39<01:09,  9.94s/it]2025-06-30 18:23:12,184 - INFO - Generating summary for topic 46 with 4 documents\n",
      "2025-06-30 18:23:12,185 - INFO - Combined text length: 10618 characters\n",
      "2025-06-30 18:23:22,438 - INFO - HTTP Request: POST https://api.openai.com/v1/chat/completions \"HTTP/1.1 200 OK\"\n",
      "2025-06-30 18:23:22,440 - INFO - Successfully generated summary for topic 46: 3085 characters\n",
      "2025-06-30 18:23:23,011 - INFO - Saved topic 46 to S3: rizzbot/Summaries/run_1/topic_46.json\n"
     ]
    },
    {
     "data": {
      "application/vnd.jupyter.widget-view+json": {
       "model_id": "2aa705f5fb4b4aef8f4f4c47f4544f62",
       "version_major": 2,
       "version_minor": 0
      },
      "text/plain": [
       "Batches:   0%|          | 0/1 [00:00<?, ?it/s]"
      ]
     },
     "metadata": {},
     "output_type": "display_data"
    },
    {
     "data": {
      "application/vnd.jupyter.widget-view+json": {
       "model_id": "6d53ef8cadd04a8fad20b74061ef5f3c",
       "version_major": 2,
       "version_minor": 0
      },
      "text/plain": [
       "Batches:   0%|          | 0/1 [00:00<?, ?it/s]"
      ]
     },
     "metadata": {},
     "output_type": "display_data"
    },
    {
     "data": {
      "application/vnd.jupyter.widget-view+json": {
       "model_id": "ae406675ddeb4e47a495c05c9b07ac3b",
       "version_major": 2,
       "version_minor": 0
      },
      "text/plain": [
       "Batches:   0%|          | 0/1 [00:00<?, ?it/s]"
      ]
     },
     "metadata": {},
     "output_type": "display_data"
    },
    {
     "data": {
      "application/vnd.jupyter.widget-view+json": {
       "model_id": "f41aa797bd9b465fa63738397561a4f4",
       "version_major": 2,
       "version_minor": 0
      },
      "text/plain": [
       "Batches:   0%|          | 0/1 [00:00<?, ?it/s]"
      ]
     },
     "metadata": {},
     "output_type": "display_data"
    },
    {
     "data": {
      "application/vnd.jupyter.widget-view+json": {
       "model_id": "bc1966ea06af44ccbd4afadb43b2cf09",
       "version_major": 2,
       "version_minor": 0
      },
      "text/plain": [
       "Batches:   0%|          | 0/1 [00:00<?, ?it/s]"
      ]
     },
     "metadata": {},
     "output_type": "display_data"
    },
    {
     "data": {
      "application/vnd.jupyter.widget-view+json": {
       "model_id": "96ed66198eb148b19c658147ac6d7cfb",
       "version_major": 2,
       "version_minor": 0
      },
      "text/plain": [
       "Batches:   0%|          | 0/1 [00:00<?, ?it/s]"
      ]
     },
     "metadata": {},
     "output_type": "display_data"
    },
    {
     "data": {
      "application/vnd.jupyter.widget-view+json": {
       "model_id": "26b9aef3c4b340f1a765602b0ca02a96",
       "version_major": 2,
       "version_minor": 0
      },
      "text/plain": [
       "Batches:   0%|          | 0/1 [00:00<?, ?it/s]"
      ]
     },
     "metadata": {},
     "output_type": "display_data"
    },
    {
     "name": "stderr",
     "output_type": "stream",
     "text": [
      "2025-06-30 18:23:23,345 - INFO - Saved 7 chunks for topic 46 to Pinecone\n",
      "Summarizing topics:  87%|████████▋ | 39/45 [06:50<01:01, 10.31s/it]2025-06-30 18:23:23,348 - INFO - Generating summary for topic 48 with 4 documents\n",
      "2025-06-30 18:23:23,349 - INFO - Combined text length: 14473 characters\n",
      "2025-06-30 18:23:31,516 - INFO - HTTP Request: POST https://api.openai.com/v1/chat/completions \"HTTP/1.1 200 OK\"\n",
      "2025-06-30 18:23:31,519 - INFO - Successfully generated summary for topic 48: 3023 characters\n",
      "2025-06-30 18:23:32,076 - INFO - Saved topic 48 to S3: rizzbot/Summaries/run_1/topic_48.json\n"
     ]
    },
    {
     "data": {
      "application/vnd.jupyter.widget-view+json": {
       "model_id": "28d4b28e9ad641ec91a873128d8d9c36",
       "version_major": 2,
       "version_minor": 0
      },
      "text/plain": [
       "Batches:   0%|          | 0/1 [00:00<?, ?it/s]"
      ]
     },
     "metadata": {},
     "output_type": "display_data"
    },
    {
     "data": {
      "application/vnd.jupyter.widget-view+json": {
       "model_id": "1034c48bca5a43708c397ad10e5a5729",
       "version_major": 2,
       "version_minor": 0
      },
      "text/plain": [
       "Batches:   0%|          | 0/1 [00:00<?, ?it/s]"
      ]
     },
     "metadata": {},
     "output_type": "display_data"
    },
    {
     "data": {
      "application/vnd.jupyter.widget-view+json": {
       "model_id": "8fdd458258de4212a68f674ab5c46e44",
       "version_major": 2,
       "version_minor": 0
      },
      "text/plain": [
       "Batches:   0%|          | 0/1 [00:00<?, ?it/s]"
      ]
     },
     "metadata": {},
     "output_type": "display_data"
    },
    {
     "data": {
      "application/vnd.jupyter.widget-view+json": {
       "model_id": "5a87897822e5463ea7a1ae08fb2ff94a",
       "version_major": 2,
       "version_minor": 0
      },
      "text/plain": [
       "Batches:   0%|          | 0/1 [00:00<?, ?it/s]"
      ]
     },
     "metadata": {},
     "output_type": "display_data"
    },
    {
     "data": {
      "application/vnd.jupyter.widget-view+json": {
       "model_id": "15259731225140b299e8cd4679edd40e",
       "version_major": 2,
       "version_minor": 0
      },
      "text/plain": [
       "Batches:   0%|          | 0/1 [00:00<?, ?it/s]"
      ]
     },
     "metadata": {},
     "output_type": "display_data"
    },
    {
     "data": {
      "application/vnd.jupyter.widget-view+json": {
       "model_id": "c0fdf11715c44a1c9a188cff497a7691",
       "version_major": 2,
       "version_minor": 0
      },
      "text/plain": [
       "Batches:   0%|          | 0/1 [00:00<?, ?it/s]"
      ]
     },
     "metadata": {},
     "output_type": "display_data"
    },
    {
     "data": {
      "application/vnd.jupyter.widget-view+json": {
       "model_id": "ec71d53364f649d38ebdb7e0b62e955f",
       "version_major": 2,
       "version_minor": 0
      },
      "text/plain": [
       "Batches:   0%|          | 0/1 [00:00<?, ?it/s]"
      ]
     },
     "metadata": {},
     "output_type": "display_data"
    },
    {
     "name": "stderr",
     "output_type": "stream",
     "text": [
      "2025-06-30 18:23:32,404 - INFO - Saved 7 chunks for topic 48 to Pinecone\n",
      "Summarizing topics:  89%|████████▉ | 40/45 [06:59<00:49,  9.93s/it]2025-06-30 18:23:32,407 - INFO - Generating summary for topic 49 with 4 documents\n",
      "2025-06-30 18:23:32,408 - INFO - Combined text length: 12764 characters\n",
      "2025-06-30 18:23:44,896 - INFO - HTTP Request: POST https://api.openai.com/v1/chat/completions \"HTTP/1.1 200 OK\"\n",
      "2025-06-30 18:23:44,900 - INFO - Successfully generated summary for topic 49: 3203 characters\n",
      "2025-06-30 18:23:45,429 - INFO - Saved topic 49 to S3: rizzbot/Summaries/run_1/topic_49.json\n"
     ]
    },
    {
     "data": {
      "application/vnd.jupyter.widget-view+json": {
       "model_id": "cf92871e7c0149a5a13dd8a6c6ed2f69",
       "version_major": 2,
       "version_minor": 0
      },
      "text/plain": [
       "Batches:   0%|          | 0/1 [00:00<?, ?it/s]"
      ]
     },
     "metadata": {},
     "output_type": "display_data"
    },
    {
     "data": {
      "application/vnd.jupyter.widget-view+json": {
       "model_id": "ad9a5a7d612f4ec9a51ab9d0049e18db",
       "version_major": 2,
       "version_minor": 0
      },
      "text/plain": [
       "Batches:   0%|          | 0/1 [00:00<?, ?it/s]"
      ]
     },
     "metadata": {},
     "output_type": "display_data"
    },
    {
     "data": {
      "application/vnd.jupyter.widget-view+json": {
       "model_id": "5796617895a045c78ca82c22b62c789d",
       "version_major": 2,
       "version_minor": 0
      },
      "text/plain": [
       "Batches:   0%|          | 0/1 [00:00<?, ?it/s]"
      ]
     },
     "metadata": {},
     "output_type": "display_data"
    },
    {
     "data": {
      "application/vnd.jupyter.widget-view+json": {
       "model_id": "1cecf062355e4554ae02ad869f2dc1cd",
       "version_major": 2,
       "version_minor": 0
      },
      "text/plain": [
       "Batches:   0%|          | 0/1 [00:00<?, ?it/s]"
      ]
     },
     "metadata": {},
     "output_type": "display_data"
    },
    {
     "data": {
      "application/vnd.jupyter.widget-view+json": {
       "model_id": "4d14edd4aaa545ef927fee78e6eaa17f",
       "version_major": 2,
       "version_minor": 0
      },
      "text/plain": [
       "Batches:   0%|          | 0/1 [00:00<?, ?it/s]"
      ]
     },
     "metadata": {},
     "output_type": "display_data"
    },
    {
     "data": {
      "application/vnd.jupyter.widget-view+json": {
       "model_id": "3ff297126b4b4e0ab8c5ab6e3b7b9e3e",
       "version_major": 2,
       "version_minor": 0
      },
      "text/plain": [
       "Batches:   0%|          | 0/1 [00:00<?, ?it/s]"
      ]
     },
     "metadata": {},
     "output_type": "display_data"
    },
    {
     "data": {
      "application/vnd.jupyter.widget-view+json": {
       "model_id": "5b650e74e1114aa9adc1cf4767ad6912",
       "version_major": 2,
       "version_minor": 0
      },
      "text/plain": [
       "Batches:   0%|          | 0/1 [00:00<?, ?it/s]"
      ]
     },
     "metadata": {},
     "output_type": "display_data"
    },
    {
     "name": "stderr",
     "output_type": "stream",
     "text": [
      "2025-06-30 18:23:45,721 - INFO - Saved 7 chunks for topic 49 to Pinecone\n",
      "Summarizing topics:  91%|█████████ | 41/45 [07:12<00:43, 10.95s/it]2025-06-30 18:23:45,724 - INFO - Generating summary for topic 50 with 4 documents\n",
      "2025-06-30 18:23:45,725 - INFO - Combined text length: 14257 characters\n",
      "2025-06-30 18:23:57,488 - INFO - HTTP Request: POST https://api.openai.com/v1/chat/completions \"HTTP/1.1 200 OK\"\n",
      "2025-06-30 18:23:57,490 - INFO - Successfully generated summary for topic 50: 3043 characters\n",
      "2025-06-30 18:23:58,018 - INFO - Saved topic 50 to S3: rizzbot/Summaries/run_1/topic_50.json\n"
     ]
    },
    {
     "data": {
      "application/vnd.jupyter.widget-view+json": {
       "model_id": "42cb5ee393ed440ba5222918d2d40255",
       "version_major": 2,
       "version_minor": 0
      },
      "text/plain": [
       "Batches:   0%|          | 0/1 [00:00<?, ?it/s]"
      ]
     },
     "metadata": {},
     "output_type": "display_data"
    },
    {
     "data": {
      "application/vnd.jupyter.widget-view+json": {
       "model_id": "b37296bc893440c59539774c29ff39bd",
       "version_major": 2,
       "version_minor": 0
      },
      "text/plain": [
       "Batches:   0%|          | 0/1 [00:00<?, ?it/s]"
      ]
     },
     "metadata": {},
     "output_type": "display_data"
    },
    {
     "data": {
      "application/vnd.jupyter.widget-view+json": {
       "model_id": "549ba87a9caf40c68a42624d68ad45da",
       "version_major": 2,
       "version_minor": 0
      },
      "text/plain": [
       "Batches:   0%|          | 0/1 [00:00<?, ?it/s]"
      ]
     },
     "metadata": {},
     "output_type": "display_data"
    },
    {
     "data": {
      "application/vnd.jupyter.widget-view+json": {
       "model_id": "c07887dec17e45308b06b511db926438",
       "version_major": 2,
       "version_minor": 0
      },
      "text/plain": [
       "Batches:   0%|          | 0/1 [00:00<?, ?it/s]"
      ]
     },
     "metadata": {},
     "output_type": "display_data"
    },
    {
     "data": {
      "application/vnd.jupyter.widget-view+json": {
       "model_id": "71d71311b0d54bf8a6cd0bfb26ddd2a2",
       "version_major": 2,
       "version_minor": 0
      },
      "text/plain": [
       "Batches:   0%|          | 0/1 [00:00<?, ?it/s]"
      ]
     },
     "metadata": {},
     "output_type": "display_data"
    },
    {
     "data": {
      "application/vnd.jupyter.widget-view+json": {
       "model_id": "c2b8010b7b154a1cb9dcb11cd9bdffde",
       "version_major": 2,
       "version_minor": 0
      },
      "text/plain": [
       "Batches:   0%|          | 0/1 [00:00<?, ?it/s]"
      ]
     },
     "metadata": {},
     "output_type": "display_data"
    },
    {
     "data": {
      "application/vnd.jupyter.widget-view+json": {
       "model_id": "5db25e8eb1944f269369eab2d522fb4d",
       "version_major": 2,
       "version_minor": 0
      },
      "text/plain": [
       "Batches:   0%|          | 0/1 [00:00<?, ?it/s]"
      ]
     },
     "metadata": {},
     "output_type": "display_data"
    },
    {
     "name": "stderr",
     "output_type": "stream",
     "text": [
      "2025-06-30 18:23:58,335 - INFO - Saved 7 chunks for topic 50 to Pinecone\n",
      "Summarizing topics:  93%|█████████▎| 42/45 [07:25<00:34, 11.45s/it]2025-06-30 18:23:58,337 - INFO - Generating summary for topic 51 with 4 documents\n",
      "2025-06-30 18:23:58,338 - INFO - Combined text length: 14642 characters\n",
      "2025-06-30 18:24:09,171 - INFO - HTTP Request: POST https://api.openai.com/v1/chat/completions \"HTTP/1.1 200 OK\"\n",
      "2025-06-30 18:24:09,174 - INFO - Successfully generated summary for topic 51: 2987 characters\n",
      "2025-06-30 18:24:09,719 - INFO - Saved topic 51 to S3: rizzbot/Summaries/run_1/topic_51.json\n"
     ]
    },
    {
     "data": {
      "application/vnd.jupyter.widget-view+json": {
       "model_id": "c9457a5c4c6b4c2cb4bbd6e83f939fc3",
       "version_major": 2,
       "version_minor": 0
      },
      "text/plain": [
       "Batches:   0%|          | 0/1 [00:00<?, ?it/s]"
      ]
     },
     "metadata": {},
     "output_type": "display_data"
    },
    {
     "data": {
      "application/vnd.jupyter.widget-view+json": {
       "model_id": "61d2dca5e9a44e6b9f566c82d201d34d",
       "version_major": 2,
       "version_minor": 0
      },
      "text/plain": [
       "Batches:   0%|          | 0/1 [00:00<?, ?it/s]"
      ]
     },
     "metadata": {},
     "output_type": "display_data"
    },
    {
     "data": {
      "application/vnd.jupyter.widget-view+json": {
       "model_id": "460ec4d15e434d359ffa7d3907930f0c",
       "version_major": 2,
       "version_minor": 0
      },
      "text/plain": [
       "Batches:   0%|          | 0/1 [00:00<?, ?it/s]"
      ]
     },
     "metadata": {},
     "output_type": "display_data"
    },
    {
     "data": {
      "application/vnd.jupyter.widget-view+json": {
       "model_id": "24e8109e2d094bff961968a6c3c3f783",
       "version_major": 2,
       "version_minor": 0
      },
      "text/plain": [
       "Batches:   0%|          | 0/1 [00:00<?, ?it/s]"
      ]
     },
     "metadata": {},
     "output_type": "display_data"
    },
    {
     "data": {
      "application/vnd.jupyter.widget-view+json": {
       "model_id": "0ea9c29f5b55408c9f8f1e5fbef287fc",
       "version_major": 2,
       "version_minor": 0
      },
      "text/plain": [
       "Batches:   0%|          | 0/1 [00:00<?, ?it/s]"
      ]
     },
     "metadata": {},
     "output_type": "display_data"
    },
    {
     "data": {
      "application/vnd.jupyter.widget-view+json": {
       "model_id": "32dfc44b2802414c826c15dc01197759",
       "version_major": 2,
       "version_minor": 0
      },
      "text/plain": [
       "Batches:   0%|          | 0/1 [00:00<?, ?it/s]"
      ]
     },
     "metadata": {},
     "output_type": "display_data"
    },
    {
     "name": "stderr",
     "output_type": "stream",
     "text": [
      "2025-06-30 18:24:10,011 - INFO - Saved 6 chunks for topic 51 to Pinecone\n",
      "Summarizing topics:  96%|█████████▌| 43/45 [07:37<00:23, 11.52s/it]2025-06-30 18:24:10,015 - INFO - Generating summary for topic 52 with 4 documents\n",
      "2025-06-30 18:24:10,016 - INFO - Combined text length: 11770 characters\n",
      "2025-06-30 18:24:20,228 - INFO - HTTP Request: POST https://api.openai.com/v1/chat/completions \"HTTP/1.1 200 OK\"\n",
      "2025-06-30 18:24:20,232 - INFO - Successfully generated summary for topic 52: 3235 characters\n",
      "2025-06-30 18:24:20,761 - INFO - Saved topic 52 to S3: rizzbot/Summaries/run_1/topic_52.json\n"
     ]
    },
    {
     "data": {
      "application/vnd.jupyter.widget-view+json": {
       "model_id": "6c33bfb41d864f378559e02f5f91be04",
       "version_major": 2,
       "version_minor": 0
      },
      "text/plain": [
       "Batches:   0%|          | 0/1 [00:00<?, ?it/s]"
      ]
     },
     "metadata": {},
     "output_type": "display_data"
    },
    {
     "data": {
      "application/vnd.jupyter.widget-view+json": {
       "model_id": "311047a4135c4ff6aa090a95a9ebabd6",
       "version_major": 2,
       "version_minor": 0
      },
      "text/plain": [
       "Batches:   0%|          | 0/1 [00:00<?, ?it/s]"
      ]
     },
     "metadata": {},
     "output_type": "display_data"
    },
    {
     "data": {
      "application/vnd.jupyter.widget-view+json": {
       "model_id": "04809724a1464ee0a0c4b4e41e862128",
       "version_major": 2,
       "version_minor": 0
      },
      "text/plain": [
       "Batches:   0%|          | 0/1 [00:00<?, ?it/s]"
      ]
     },
     "metadata": {},
     "output_type": "display_data"
    },
    {
     "data": {
      "application/vnd.jupyter.widget-view+json": {
       "model_id": "67c1d4f4eab14303be7fa68ccd716512",
       "version_major": 2,
       "version_minor": 0
      },
      "text/plain": [
       "Batches:   0%|          | 0/1 [00:00<?, ?it/s]"
      ]
     },
     "metadata": {},
     "output_type": "display_data"
    },
    {
     "data": {
      "application/vnd.jupyter.widget-view+json": {
       "model_id": "cba0f220924e489f82a62c4824e9bfd5",
       "version_major": 2,
       "version_minor": 0
      },
      "text/plain": [
       "Batches:   0%|          | 0/1 [00:00<?, ?it/s]"
      ]
     },
     "metadata": {},
     "output_type": "display_data"
    },
    {
     "data": {
      "application/vnd.jupyter.widget-view+json": {
       "model_id": "b65246f98d4a4ac5b4875ed74a07a39a",
       "version_major": 2,
       "version_minor": 0
      },
      "text/plain": [
       "Batches:   0%|          | 0/1 [00:00<?, ?it/s]"
      ]
     },
     "metadata": {},
     "output_type": "display_data"
    },
    {
     "data": {
      "application/vnd.jupyter.widget-view+json": {
       "model_id": "72dfa95895fd47339e516b9c30b35591",
       "version_major": 2,
       "version_minor": 0
      },
      "text/plain": [
       "Batches:   0%|          | 0/1 [00:00<?, ?it/s]"
      ]
     },
     "metadata": {},
     "output_type": "display_data"
    },
    {
     "name": "stderr",
     "output_type": "stream",
     "text": [
      "2025-06-30 18:24:21,080 - INFO - Saved 7 chunks for topic 52 to Pinecone\n",
      "Summarizing topics:  98%|█████████▊| 44/45 [07:48<00:11, 11.38s/it]2025-06-30 18:24:21,083 - INFO - Generating summary for topic 53 with 3 documents\n",
      "2025-06-30 18:24:21,084 - INFO - Combined text length: 11025 characters\n",
      "2025-06-30 18:24:32,000 - INFO - HTTP Request: POST https://api.openai.com/v1/chat/completions \"HTTP/1.1 200 OK\"\n",
      "2025-06-30 18:24:32,005 - INFO - Successfully generated summary for topic 53: 3328 characters\n",
      "2025-06-30 18:24:32,543 - INFO - Saved topic 53 to S3: rizzbot/Summaries/run_1/topic_53.json\n"
     ]
    },
    {
     "data": {
      "application/vnd.jupyter.widget-view+json": {
       "model_id": "aabe4f2f45ba41149b09877c14ace1ab",
       "version_major": 2,
       "version_minor": 0
      },
      "text/plain": [
       "Batches:   0%|          | 0/1 [00:00<?, ?it/s]"
      ]
     },
     "metadata": {},
     "output_type": "display_data"
    },
    {
     "data": {
      "application/vnd.jupyter.widget-view+json": {
       "model_id": "39effd5d700f44349e4c74bf76ff8423",
       "version_major": 2,
       "version_minor": 0
      },
      "text/plain": [
       "Batches:   0%|          | 0/1 [00:00<?, ?it/s]"
      ]
     },
     "metadata": {},
     "output_type": "display_data"
    },
    {
     "data": {
      "application/vnd.jupyter.widget-view+json": {
       "model_id": "b385616533334306932ce04fcc9143cf",
       "version_major": 2,
       "version_minor": 0
      },
      "text/plain": [
       "Batches:   0%|          | 0/1 [00:00<?, ?it/s]"
      ]
     },
     "metadata": {},
     "output_type": "display_data"
    },
    {
     "data": {
      "application/vnd.jupyter.widget-view+json": {
       "model_id": "521544ebccf449a58ccaf276c949bb65",
       "version_major": 2,
       "version_minor": 0
      },
      "text/plain": [
       "Batches:   0%|          | 0/1 [00:00<?, ?it/s]"
      ]
     },
     "metadata": {},
     "output_type": "display_data"
    },
    {
     "data": {
      "application/vnd.jupyter.widget-view+json": {
       "model_id": "72145d9589764e5d85aeed7cfbd7f17b",
       "version_major": 2,
       "version_minor": 0
      },
      "text/plain": [
       "Batches:   0%|          | 0/1 [00:00<?, ?it/s]"
      ]
     },
     "metadata": {},
     "output_type": "display_data"
    },
    {
     "data": {
      "application/vnd.jupyter.widget-view+json": {
       "model_id": "b563a3d4d5e04fb09396550577f1382c",
       "version_major": 2,
       "version_minor": 0
      },
      "text/plain": [
       "Batches:   0%|          | 0/1 [00:00<?, ?it/s]"
      ]
     },
     "metadata": {},
     "output_type": "display_data"
    },
    {
     "data": {
      "application/vnd.jupyter.widget-view+json": {
       "model_id": "ade180ac6175433fb2b1c31df90d1586",
       "version_major": 2,
       "version_minor": 0
      },
      "text/plain": [
       "Batches:   0%|          | 0/1 [00:00<?, ?it/s]"
      ]
     },
     "metadata": {},
     "output_type": "display_data"
    },
    {
     "name": "stderr",
     "output_type": "stream",
     "text": [
      "2025-06-30 18:24:32,912 - INFO - Saved 7 chunks for topic 53 to Pinecone\n",
      "Summarizing topics: 100%|██████████| 45/45 [07:59<00:00, 10.67s/it]\n",
      "2025-06-30 18:24:32,929 - INFO - Saved 45 summaries locally in rizzbot_data/summaries_run_1\n",
      "2025-06-30 18:24:32,930 - INFO - Summary generation completed. Success: 45 | Failed: 0\n"
     ]
    },
    {
     "name": "stdout",
     "output_type": "stream",
     "text": [
      "\n",
      " Final Results:\n",
      "   Total summaries generated: 129067\n"
     ]
    }
   ],
   "source": [
    "import os\n",
    "import pickle\n",
    "import json\n",
    "import boto3\n",
    "import logging\n",
    "import yaml\n",
    "import pandas as pd\n",
    "import numpy as np\n",
    "from datetime import datetime\n",
    "from typing import Dict, List, Any, Union\n",
    "from tqdm import tqdm\n",
    "from openai import OpenAI\n",
    "from pinecone import Pinecone\n",
    "from bertopic import BERTopic\n",
    "from sentence_transformers import SentenceTransformer\n",
    "\n",
    "# ---------- Configure Logging ----------\n",
    "logging.basicConfig(\n",
    "    level=logging.INFO,\n",
    "    format='%(asctime)s - %(levelname)s - %(message)s',\n",
    "    handlers=[\n",
    "        logging.FileHandler('topic_summarization.log'),\n",
    "        logging.StreamHandler()\n",
    "    ]\n",
    ")\n",
    "logger = logging.getLogger(__name__)\n",
    "\n",
    "# ---------- Config ----------\n",
    "class Config:\n",
    "    def __init__(self, config_file=\"config.yaml\"):\n",
    "        # Load configuration from YAML file\n",
    "        self.config_data = self.load_config(config_file)\n",
    "        \n",
    "        # File paths\n",
    "        self.CLUSTERED_VECTORS_PATH = \"rizzbot_data/cleaned_clustered_vectors.pkl\" # Path the the cleaned clustered vectors file\n",
    "        self.TOPIC_MODEL_PATH = \"rizzbot_data/bertopic_model\"\n",
    "        \n",
    "        # S3 settings\n",
    "        self.S3_BUCKET = \"rizzbot-temp-storage\"\n",
    "        self.S3_PREFIX = \"rizzbot/Summaries/\"\n",
    "        \n",
    "        # Pinecone settings\n",
    "        self.PINECONE_INDEX = \"rizzbot-summaries\"\n",
    "        \n",
    "        # Model settings\n",
    "        self.EMBEDDING_MODEL = \"all-MiniLM-L6-v2\"\n",
    "        self.SUMMARY_MODEL = \"gpt-4o-mini\"\n",
    "        \n",
    "        # Processing settings\n",
    "        self.MAX_SUMMARY_WORDS = 500\n",
    "        self.MAX_DOCS_PER_TOPIC = 50\n",
    "        self.CHUNK_SIZE = 500\n",
    "        \n",
    "        # API Keys from config.yaml\n",
    "        self.OPENAI_API_KEY = self.config_data.get('openai_api_key')\n",
    "        self.PINECONE_API_KEY = self.config_data.get('pinecone_api_key')\n",
    "        \n",
    "        # Validate required keys\n",
    "        self.validate_config()\n",
    "    \n",
    "    def load_config(self, config_file: str) -> dict:\n",
    "        \"\"\"Load configuration from YAML file\"\"\"\n",
    "        try:\n",
    "            with open(config_file, 'r') as f:\n",
    "                config = yaml.safe_load(f)\n",
    "            logger.info(f\"Loaded configuration from {config_file}\")\n",
    "            return config\n",
    "        except FileNotFoundError:\n",
    "            logger.error(f\"Configuration file {config_file} not found\")\n",
    "            raise\n",
    "        except yaml.YAMLError as e:\n",
    "            logger.error(f\"Error parsing YAML file: {e}\")\n",
    "            raise\n",
    "    \n",
    "    def validate_config(self):\n",
    "        \"\"\"Validate that required API keys are present\"\"\"\n",
    "        missing_keys = []\n",
    "        \n",
    "        if not self.OPENAI_API_KEY:\n",
    "            missing_keys.append('openai_api_key')\n",
    "        \n",
    "        if not self.PINECONE_API_KEY:\n",
    "            missing_keys.append('pinecone_api_key')\n",
    "        \n",
    "        if missing_keys:\n",
    "            logger.error(f\"Missing required API keys in config.yaml: {missing_keys}\")\n",
    "            raise ValueError(f\"Missing required API keys: {', '.join(missing_keys)}\")\n",
    "        \n",
    "        logger.info(\"All required API keys found in configuration\")\n",
    "\n",
    "class TopicSummarizer:\n",
    "    def __init__(self, config_file=\"config.yaml\"):\n",
    "        self.config = Config(config_file)\n",
    "        self.s3_client = None\n",
    "        self.openai_client = None\n",
    "        self.pinecone_client = None\n",
    "        self.pinecone_index = None\n",
    "        self.embedder = None\n",
    "        self.topic_model = None\n",
    "        self.clustered_vectors = None\n",
    "        \n",
    "    def initialize_clients(self):\n",
    "        \"\"\"Initialize all external service clients\"\"\"\n",
    "        try:\n",
    "            logger.info(\"Initializing clients...\")\n",
    "            \n",
    "            # Initialize S3 client (uses AWS credentials from environment/AWS config)\n",
    "            self.s3_client = boto3.client(\"s3\")\n",
    "            logger.info(\"S3 client initialized\")\n",
    "            \n",
    "            # Initialize OpenAI client with API key from config\n",
    "            self.openai_client = OpenAI(api_key=self.config.OPENAI_API_KEY)\n",
    "            logger.info(\"OpenAI client initialized\")\n",
    "            \n",
    "            # Test OpenAI connection\n",
    "            try:\n",
    "                test_response = self.openai_client.chat.completions.create(\n",
    "                    model=\"gpt-3.5-turbo\",\n",
    "                    messages=[{\"role\": \"user\", \"content\": \"Hello\"}],\n",
    "                    max_tokens=5\n",
    "                )\n",
    "                logger.info(\"OpenAI API connection test successful\")\n",
    "            except Exception as e:\n",
    "                logger.error(f\"OpenAI API connection test failed: {e}\")\n",
    "                raise\n",
    "            \n",
    "            # Initialize Pinecone client with API key from config\n",
    "            self.pinecone_client = Pinecone(api_key=self.config.PINECONE_API_KEY)\n",
    "            self.pinecone_index = self.pinecone_client.Index(self.config.PINECONE_INDEX)\n",
    "            logger.info(\"Pinecone client initialized\")\n",
    "            \n",
    "            # Initialize sentence transformer (no API key needed)\n",
    "            self.embedder = SentenceTransformer(self.config.EMBEDDING_MODEL)\n",
    "            logger.info(\"Sentence transformer initialized\")\n",
    "            \n",
    "            logger.info(\"All clients initialized successfully\")\n",
    "        except Exception as e:\n",
    "            logger.error(f\"Failed to initialize clients: {e}\")\n",
    "            raise\n",
    "    \n",
    "    def load_data(self):\n",
    "    #Load clustered data and BERTopic model\"\"\"\n",
    "        try:\n",
    "            logger.info(\"Loading clustered vectors...\")\n",
    "            with open(self.config.CLUSTERED_VECTORS_PATH, \"rb\") as f:\n",
    "                self.clustered_vectors = pickle.load(f)\n",
    "            logger.info(f\"Loaded clustered vectors: {len(self.clustered_vectors)} items\")\n",
    "            \n",
    "            if isinstance(self.clustered_vectors, pd.DataFrame):\n",
    "                logger.info(f\"DataFrame shape: {self.clustered_vectors.shape}, columns: {list(self.clustered_vectors.columns)}\")\n",
    "            else:\n",
    "                logger.info(f\"Data type: {type(self.clustered_vectors)}\")\n",
    "\n",
    "            self.load_topic_model_first()\n",
    "        except Exception as e:\n",
    "            logger.error(f\"Error loading data: {e}\")\n",
    "            raise\n",
    "\n",
    "    \n",
    "    def load_topic_model_first(self):\n",
    "    #Load BERTopic model with re-attached embedding model\n",
    "        try:\n",
    "            logger.info(f\"Loading BERTopic model from: {self.config.TOPIC_MODEL_PATH}\")\n",
    "            embedding_model = SentenceTransformer(self.config.EMBEDDING_MODEL)\n",
    "            self.topic_model = BERTopic.load(self.config.TOPIC_MODEL_PATH, embedding_model=embedding_model)\n",
    "            topics = self.topic_model.get_topics()\n",
    "            logger.info(f\"Loaded BERTopic model with {len(topics)} topics\")\n",
    "        except Exception as e:\n",
    "            logger.error(f\"Error loading BERTopic model: {e}\")\n",
    "            raise\n",
    "\n",
    "    \n",
    "    def group_documents_by_topic(self) -> Dict[int, List[str]]:\n",
    "        logger.info(\"Grouping documents by topic...\")\n",
    "        topic_to_docs = {}\n",
    "\n",
    "        if isinstance(self.clustered_vectors, pd.DataFrame):\n",
    "            df = self.clustered_vectors\n",
    "            if 'topic_id' not in df.columns or 'text' not in df.columns:\n",
    "                raise ValueError(\"clustered_vectors must include 'topic_id' and 'text'\")\n",
    "            for topic_id, group in df.dropna(subset=['topic_id', 'text']).groupby('topic_id'):\n",
    "                if topic_id == -1:\n",
    "                    continue\n",
    "                topic_to_docs[int(topic_id)] = group['text'].tolist()\n",
    "        else:\n",
    "            for item in self.clustered_vectors:\n",
    "                if not isinstance(item, dict): continue\n",
    "                topic_id = item.get(\"topic_id\")\n",
    "                text = item.get(\"text\")\n",
    "                if topic_id is not None and text and topic_id != -1:\n",
    "                    topic_to_docs.setdefault(topic_id, []).append(text)\n",
    "\n",
    "        logger.info(f\"Grouped documents into {len(topic_to_docs)} topics\")\n",
    "        return topic_to_docs\n",
    "\n",
    "    \n",
    "    def generate_summary(self, topic_id: int, docs: List[str]) -> str:\n",
    "        \"\"\"Generate summary for a single topic with enhanced error handling\"\"\"\n",
    "        try:\n",
    "            combined_text = \"\\n\\n\".join(docs[:self.config.MAX_DOCS_PER_TOPIC])\n",
    "            \n",
    "            logger.info(f\"Generating summary for topic {topic_id} with {len(docs)} documents\")\n",
    "            logger.info(f\"Combined text length: {len(combined_text)} characters\")\n",
    "            \n",
    "            prompt = (\n",
    "                f\"You are a helpful assistant. Write a concise and clear {self.config.MAX_SUMMARY_WORDS}-word summary \"\n",
    "                f\"on the following topic using the provided documents:\\n\\n{combined_text}\\n\\n\"\n",
    "                f\"Summary:\"\n",
    "            )\n",
    "            \n",
    "            response = self.openai_client.chat.completions.create(\n",
    "                model=self.config.SUMMARY_MODEL,\n",
    "                messages=[{\"role\": \"user\", \"content\": prompt}],\n",
    "                temperature=0.5,\n",
    "                max_tokens=1500\n",
    "            )\n",
    "            \n",
    "            summary = response.choices[0].message.content.strip()\n",
    "            logger.info(f\"Successfully generated summary for topic {topic_id}: {len(summary)} characters\")\n",
    "            return summary\n",
    "            \n",
    "        except Exception as e:\n",
    "            logger.error(f\"Failed to generate summary for topic {topic_id}: {e}\")\n",
    "            raise\n",
    "    \n",
    "    def save_to_s3(self, topic_id: int, summary_text: str, run_number: int):\n",
    "        \"\"\"Save summary to S3 with run number\"\"\"\n",
    "        try:\n",
    "            s3_key = f\"{self.config.S3_PREFIX}run_{run_number}/topic_{topic_id}.json\"\n",
    "            \n",
    "            summary_data = {\n",
    "                \"topic_id\": topic_id,\n",
    "                \"summary_text\": summary_text,\n",
    "                \"source\": \"BERTopic\",\n",
    "                \"run_number\": run_number,\n",
    "                \"timestamp\": datetime.now().isoformat(),\n",
    "                \"model_used\": self.config.SUMMARY_MODEL\n",
    "            }\n",
    "            \n",
    "            self.s3_client.put_object(\n",
    "                Bucket=self.config.S3_BUCKET,\n",
    "                Key=s3_key,\n",
    "                Body=json.dumps(summary_data, indent=2),\n",
    "                ContentType=\"application/json\"\n",
    "            )\n",
    "            logger.info(f\"Saved topic {topic_id} to S3: {s3_key}\")\n",
    "            \n",
    "        except Exception as e:\n",
    "            logger.error(f\"Failed to save topic {topic_id} to S3: {e}\")\n",
    "            raise\n",
    "    \n",
    "    def save_to_pinecone(self, topic_id: int, summary_text: str, run_number: int):\n",
    "        \"\"\"Save summary chunks to Pinecone with run number\"\"\"\n",
    "        try:\n",
    "            chunks = [summary_text[i:i+self.config.CHUNK_SIZE] \n",
    "                     for i in range(0, len(summary_text), self.config.CHUNK_SIZE)]\n",
    "            \n",
    "            vectors_to_upsert = []\n",
    "            for i, chunk in enumerate(chunks):\n",
    "                embedding = self.embedder.encode(chunk).tolist()\n",
    "                vector_id = f\"summary-run{run_number}-{topic_id}-{i}\"\n",
    "                \n",
    "                metadata = {\n",
    "                    \"type\": \"summary\",\n",
    "                    \"topic_id\": str(topic_id),\n",
    "                    \"chunk_id\": i,\n",
    "                    \"source\": \"BERTopic\",\n",
    "                    \"summary_quality\": \"v1.0\",\n",
    "                    \"run_number\": run_number,\n",
    "                    \"timestamp\": datetime.now().isoformat(),\n",
    "                    \"model_used\": self.config.SUMMARY_MODEL\n",
    "                }\n",
    "                \n",
    "                vectors_to_upsert.append((vector_id, embedding, metadata))\n",
    "            \n",
    "            # Batch upsert for efficiency\n",
    "            self.pinecone_index.upsert(vectors=vectors_to_upsert)\n",
    "            logger.info(f\"Saved {len(chunks)} chunks for topic {topic_id} to Pinecone\")\n",
    "            \n",
    "        except Exception as e:\n",
    "            logger.error(f\"Failed to save topic {topic_id} to Pinecone: {e}\")\n",
    "            raise\n",
    "    \n",
    "    def save_summaries_locally(self, summaries: Dict[int, str], run_number: int):\n",
    "        \"\"\"Save summaries to local file for backup\"\"\"\n",
    "        try:\n",
    "            local_dir = f\"rizzbot_data/summaries_run_{run_number}\"\n",
    "            os.makedirs(local_dir, exist_ok=True)\n",
    "            \n",
    "            # Save individual summaries\n",
    "            for topic_id, summary_text in summaries.items():\n",
    "                filename = os.path.join(local_dir, f\"topic_{topic_id}.txt\")\n",
    "                with open(filename, 'w', encoding='utf-8') as f:\n",
    "                    f.write(f\"Topic ID: {topic_id}\\n\")\n",
    "                    f.write(f\"Run Number: {run_number}\\n\")\n",
    "                    f.write(f\"Timestamp: {datetime.now().isoformat()}\\n\")\n",
    "                    f.write(f\"Model: {self.config.SUMMARY_MODEL}\\n\")\n",
    "                    f.write(\"-\" * 50 + \"\\n\")\n",
    "                    f.write(summary_text)\n",
    "            \n",
    "            # Save consolidated file\n",
    "            consolidated_file = os.path.join(local_dir, \"all_summaries.json\")\n",
    "            with open(consolidated_file, 'w', encoding='utf-8') as f:\n",
    "                summary_data = {\n",
    "                    \"run_number\": run_number,\n",
    "                    \"timestamp\": datetime.now().isoformat(),\n",
    "                    \"model_used\": self.config.SUMMARY_MODEL,\n",
    "                    \"total_topics\": len(summaries),\n",
    "                    \"summaries\": summaries\n",
    "                }\n",
    "                json.dump(summary_data, f, indent=2, ensure_ascii=False)\n",
    "            \n",
    "            logger.info(f\"Saved {len(summaries)} summaries locally in {local_dir}\")\n",
    "            \n",
    "        except Exception as e:\n",
    "            logger.error(f\"Failed to save summaries locally: {e}\")\n",
    "            raise\n",
    "    \n",
    "    def run_full_summarization(self):\n",
    "    #Run summarization for all topics once\n",
    "        run_number = 1\n",
    "        topic_to_docs = self.group_documents_by_topic()\n",
    "        summaries = {}\n",
    "        failed = []\n",
    "\n",
    "        logger.info(f\"Running summarization for {len(topic_to_docs)} topics...\")\n",
    "\n",
    "        for topic_id in tqdm(topic_to_docs, desc=\"Summarizing topics\"):\n",
    "            try:\n",
    "                docs = topic_to_docs[topic_id]\n",
    "                summary = self.generate_summary(topic_id, docs)\n",
    "                summaries[topic_id] = summary\n",
    "                self.save_to_s3(topic_id, summary, run_number)\n",
    "                self.save_to_pinecone(topic_id, summary, run_number)\n",
    "            except Exception as e:\n",
    "                logger.error(f\"Topic {topic_id} failed: {e}\")\n",
    "                failed.append(topic_id)\n",
    "\n",
    "        self.save_summaries_locally(summaries, run_number)\n",
    "        logger.info(f\"Summary generation completed. Success: {len(summaries)} | Failed: {len(failed)}\")\n",
    "\n",
    "        return summaries\n",
    "\n",
    "    \n",
    "    def save_consolidated_results(self, all_results: Dict[int, Dict[int, str]]):\n",
    "        \"\"\"Save consolidated results from all runs\"\"\"\n",
    "        try:\n",
    "            consolidated_dir = \"rizzbot_data/consolidated_results\"\n",
    "            os.makedirs(consolidated_dir, exist_ok=True)\n",
    "            \n",
    "            # Get total topics count properly\n",
    "            topic_to_docs = self.group_documents_by_topic()\n",
    "            total_topics = len(topic_to_docs)\n",
    "            \n",
    "            # Summary statistics\n",
    "            stats = {\n",
    "                \"total_runs\": self.config.NUM_TEST_RUNS,\n",
    "                \"timestamp\": datetime.now().isoformat(),\n",
    "                \"model_used\": self.config.SUMMARY_MODEL,\n",
    "                \"total_topics_available\": total_topics,\n",
    "                \"run_statistics\": {}\n",
    "            }\n",
    "            \n",
    "            for run_number, summaries in all_results.items():\n",
    "                stats[\"run_statistics\"][run_number] = {\n",
    "                    \"topics_processed\": len(summaries),\n",
    "                    \"success_rate\": len(summaries) / total_topics if total_topics > 0 else 0\n",
    "                }\n",
    "            \n",
    "            # Save statistics\n",
    "            with open(os.path.join(consolidated_dir, \"run_statistics.json\"), 'w') as f:\n",
    "                json.dump(stats, f, indent=2)\n",
    "            \n",
    "            # Save all results\n",
    "            with open(os.path.join(consolidated_dir, \"all_results.json\"), 'w') as f:\n",
    "                json.dump(all_results, f, indent=2, ensure_ascii=False)\n",
    "            \n",
    "            logger.info(f\"Consolidated results saved in {consolidated_dir}\")\n",
    "            \n",
    "        except Exception as e:\n",
    "            logger.error(f\"Failed to save consolidated results: {e}\")\n",
    "    \n",
    "    def run(self):\n",
    "        \"\"\"Main execution method\"\"\"\n",
    "        try:\n",
    "            self.initialize_clients()\n",
    "            self.load_data()\n",
    "            return self.run_full_summarization()\n",
    "        except Exception as e:\n",
    "            logger.error(f\"Fatal error during execution: {e}\")\n",
    "            raise\n",
    "\n",
    "\n",
    "def main():\n",
    "    \"\"\"Main entry point\"\"\"\n",
    "    try:\n",
    "        # You can specify a different config file path if needed\n",
    "        # summarizer = TopicSummarizer(\"path/to/your/config.yaml\")\n",
    "        summarizer = TopicSummarizer(\"config.yaml\")  # Uses default \"config.yaml\" in current directory\n",
    "        results = summarizer.run()\n",
    "        \n",
    "        # Print final summary\n",
    "        total_successful = sum(len(summaries) for summaries in results.values())\n",
    "        print(f\"\\n Final Results:\")\n",
    "        print(f\"   Total summaries generated: {total_successful}\")\n",
    "        \n",
    "    except Exception as e:\n",
    "        logger.error(f\"Script failed: {e}\")\n",
    "        raise\n",
    "\n",
    "if __name__ == \"__main__\":\n",
    "    main()"
   ]
  },
  {
   "cell_type": "code",
   "execution_count": null,
   "id": "6b2c82a5",
   "metadata": {},
   "outputs": [
    {
     "name": "stdout",
     "output_type": "stream",
     "text": [
      "Total items: 741\n",
      "full_vectors type: <class 'pandas.core.frame.DataFrame'>\n",
      "First item type: <class 'pandas.core.series.Series'>\n",
      "First item: id                                                    emb-0100\n",
      "text          ,\"Wait a second. You guys got stunt doubles? ...\n",
      "embedding    [0.0493264534, 0.0287857763, -0.0159280337, 0....\n",
      "Name: 0, dtype: object\n",
      "Columns in DataFrame: ['id', 'text', 'embedding']\n",
      "Items with valid topic_id: 0\n"
     ]
    }
   ],
   "source": [
    "# Quick diagnostic script\n",
    "import pickle\n",
    "\n",
    "# Check your data structure\n",
    "with open(\"rizzbot_data/full_vectors.pkl\", \"rb\") as f:\n",
    "    full_vectors = pickle.load(f)\n",
    "\n",
    "print(f\"Total items: {len(full_vectors)}\")\n",
    "print(f\"full_vectors type: {type(full_vectors)}\")\n",
    "if isinstance(full_vectors, dict):\n",
    "    first_item = next(iter(full_vectors.values()))\n",
    "elif hasattr(full_vectors, \"iloc\"):  # DataFrame\n",
    "    first_item = full_vectors.iloc[0]\n",
    "else:\n",
    "    first_item = full_vectors[0]\n",
    "print(f\"First item type: {type(first_item)}\")\n",
    "print(f\"First item: {first_item}\")\n",
    "\n",
    "if hasattr(full_vectors, \"columns\"):\n",
    "    print(f\"Columns in DataFrame: {list(full_vectors.columns)}\")\n",
    "elif isinstance(full_vectors[0], dict):\n",
    "    print(f\"Keys in first item: {list(full_vectors[0].keys())}\")\n",
    "\n",
    "# Count items with topic_id\n",
    "if hasattr(full_vectors, \"topic_id\"):\n",
    "    count_with_topic_id = full_vectors[\"topic_id\"].notnull().sum()\n",
    "else:\n",
    "    count_with_topic_id = sum(\n",
    "        1 for item in full_vectors\n",
    "        if isinstance(item, dict) and\n",
    "        'topic_id' in item and\n",
    "        item['topic_id'] is not None\n",
    "    )\n",
    "print(f\"Items with valid topic_id: {count_with_topic_id}\")\n",
    "# ...existing code..."
   ]
  },
  {
   "cell_type": "code",
   "execution_count": null,
   "id": "f5156503",
   "metadata": {},
   "outputs": [
    {
     "name": "stdout",
     "output_type": "stream",
     "text": [
      "Total items: 741\n",
      "clustered_vectors type: <class 'pandas.core.frame.DataFrame'>\n",
      "First item type: <class 'pandas.core.series.Series'>\n",
      "First item: id                                                      emb-0100\n",
      "text            ,\"Wait a second. You guys got stunt doubles? ...\n",
      "embedding      [0.0493264534, 0.0287857763, -0.0159280337, 0....\n",
      "cluster                                                        0\n",
      "x                                                       7.796501\n",
      "y                                                       14.66375\n",
      "topic_num                                                     -1\n",
      "topic_score                                             0.331495\n",
      "Name: 0, dtype: object\n",
      "Columns in DataFrame: ['id', 'text', 'embedding', 'cluster', 'x', 'y', 'topic_num', 'topic_score']\n",
      "Items with valid topic_id: 0\n"
     ]
    }
   ],
   "source": [
    "# Quick diagnostic script for clustered_vectors.pkl\n",
    "\n",
    "import pickle\n",
    "\n",
    "# Check your data structure\n",
    "with open(\"rizzbot_data/clustered_vectors.pkl\", \"rb\") as f:\n",
    "    clustered_vectors = pickle.load(f)\n",
    "\n",
    "print(f\"Total items: {len(clustered_vectors)}\")\n",
    "print(f\"clustered_vectors type: {type(clustered_vectors)}\")\n",
    "if isinstance(clustered_vectors, dict):\n",
    "    first_item = next(iter(clustered_vectors.values()))\n",
    "elif hasattr(clustered_vectors, \"iloc\"):  # DataFrame\n",
    "    first_item = clustered_vectors.iloc[0]\n",
    "else:\n",
    "    first_item = clustered_vectors[0]\n",
    "print(f\"First item type: {type(first_item)}\")\n",
    "print(f\"First item: {first_item}\")\n",
    "\n",
    "if hasattr(clustered_vectors, \"columns\"):\n",
    "    print(f\"Columns in DataFrame: {list(clustered_vectors.columns)}\")\n",
    "elif isinstance(clustered_vectors[0], dict):\n",
    "    print(f\"Keys in first item: {list(clustered_vectors[0].keys())}\")\n",
    "\n",
    "# Count items with topic_id\n",
    "if hasattr(clustered_vectors, \"topic_id\"):\n",
    "    count_with_topic_id = clustered_vectors[\"topic_id\"].notnull().sum()\n",
    "else:\n",
    "    count_with_topic_id = sum(\n",
    "        1 for item in clustered_vectors\n",
    "        if isinstance(item, dict) and\n",
    "        'topic_id' in item and\n",
    "        item['topic_id'] is not None\n",
    "    )\n",
    "print(f\"Items with valid topic_id: {count_with_topic_id}\")"
   ]
  }
 ],
 "metadata": {
  "kernelspec": {
   "display_name": "Python 3",
   "language": "python",
   "name": "python3"
  },
  "language_info": {
   "codemirror_mode": {
    "name": "ipython",
    "version": 3
   },
   "file_extension": ".py",
   "mimetype": "text/x-python",
   "name": "python",
   "nbconvert_exporter": "python",
   "pygments_lexer": "ipython3",
   "version": "3.11.9"
  }
 },
 "nbformat": 4,
 "nbformat_minor": 5
}
